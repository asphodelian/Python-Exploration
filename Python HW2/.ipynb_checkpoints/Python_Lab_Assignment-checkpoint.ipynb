{
 "cells": [
  {
   "cell_type": "markdown",
   "metadata": {},
   "source": [
    "# PyCity Schools Analysis\n",
    "\n",
    "* As a whole, schools with higher budgets, did not yield better test results. By contrast, schools with higher spending per student actually (\\\\$645 - 675) underperformed compared to schools with smaller budgets (\\\\$585 per student).\n",
    "\n",
    "* As a whole, smaller and medium sized schools dramatically out-performed large sized schools on passing math performances (89-91% passing vs 67%).\n",
    "\n",
    "* As a whole, charter schools out-performed the public district schools across all metrics. However, more analysis will be required to glean if the effect is due to school practices or the fact that charter schools tend to serve smaller student populations per school. \n",
    "---"
   ]
  },
  {
   "cell_type": "markdown",
   "metadata": {},
   "source": [
    "**Note:**\n",
    "Instructions have been included for each segment. You do not have to follow them exactly, but they are included to help you think through the steps."
   ]
  },
  {
   "cell_type": "code",
   "execution_count": 2,
   "metadata": {
    "ExecuteTime": {
     "end_time": "2022-08-06T06:08:31.925112Z",
     "start_time": "2022-08-06T06:08:29.337754Z"
    }
   },
   "outputs": [
    {
     "data": {
      "text/html": [
       "<div>\n",
       "<style scoped>\n",
       "    .dataframe tbody tr th:only-of-type {\n",
       "        vertical-align: middle;\n",
       "    }\n",
       "\n",
       "    .dataframe tbody tr th {\n",
       "        vertical-align: top;\n",
       "    }\n",
       "\n",
       "    .dataframe thead th {\n",
       "        text-align: right;\n",
       "    }\n",
       "</style>\n",
       "<table border=\"1\" class=\"dataframe\">\n",
       "  <thead>\n",
       "    <tr style=\"text-align: right;\">\n",
       "      <th></th>\n",
       "      <th>Student ID</th>\n",
       "      <th>student_name</th>\n",
       "      <th>gender</th>\n",
       "      <th>grade</th>\n",
       "      <th>school_name</th>\n",
       "      <th>reading_score</th>\n",
       "      <th>math_score</th>\n",
       "      <th>School ID</th>\n",
       "      <th>type</th>\n",
       "      <th>size</th>\n",
       "      <th>budget</th>\n",
       "    </tr>\n",
       "  </thead>\n",
       "  <tbody>\n",
       "    <tr>\n",
       "      <th>0</th>\n",
       "      <td>0</td>\n",
       "      <td>Paul Bradley</td>\n",
       "      <td>M</td>\n",
       "      <td>9th</td>\n",
       "      <td>Huang High School</td>\n",
       "      <td>66</td>\n",
       "      <td>79</td>\n",
       "      <td>0</td>\n",
       "      <td>District</td>\n",
       "      <td>2917</td>\n",
       "      <td>1910635</td>\n",
       "    </tr>\n",
       "    <tr>\n",
       "      <th>1</th>\n",
       "      <td>1</td>\n",
       "      <td>Victor Smith</td>\n",
       "      <td>M</td>\n",
       "      <td>12th</td>\n",
       "      <td>Huang High School</td>\n",
       "      <td>94</td>\n",
       "      <td>61</td>\n",
       "      <td>0</td>\n",
       "      <td>District</td>\n",
       "      <td>2917</td>\n",
       "      <td>1910635</td>\n",
       "    </tr>\n",
       "    <tr>\n",
       "      <th>2</th>\n",
       "      <td>2</td>\n",
       "      <td>Kevin Rodriguez</td>\n",
       "      <td>M</td>\n",
       "      <td>12th</td>\n",
       "      <td>Huang High School</td>\n",
       "      <td>90</td>\n",
       "      <td>60</td>\n",
       "      <td>0</td>\n",
       "      <td>District</td>\n",
       "      <td>2917</td>\n",
       "      <td>1910635</td>\n",
       "    </tr>\n",
       "    <tr>\n",
       "      <th>3</th>\n",
       "      <td>3</td>\n",
       "      <td>Dr. Richard Scott</td>\n",
       "      <td>M</td>\n",
       "      <td>12th</td>\n",
       "      <td>Huang High School</td>\n",
       "      <td>67</td>\n",
       "      <td>58</td>\n",
       "      <td>0</td>\n",
       "      <td>District</td>\n",
       "      <td>2917</td>\n",
       "      <td>1910635</td>\n",
       "    </tr>\n",
       "    <tr>\n",
       "      <th>4</th>\n",
       "      <td>4</td>\n",
       "      <td>Bonnie Ray</td>\n",
       "      <td>F</td>\n",
       "      <td>9th</td>\n",
       "      <td>Huang High School</td>\n",
       "      <td>97</td>\n",
       "      <td>84</td>\n",
       "      <td>0</td>\n",
       "      <td>District</td>\n",
       "      <td>2917</td>\n",
       "      <td>1910635</td>\n",
       "    </tr>\n",
       "  </tbody>\n",
       "</table>\n",
       "</div>"
      ],
      "text/plain": [
       "   Student ID       student_name gender grade        school_name  \\\n",
       "0           0       Paul Bradley      M   9th  Huang High School   \n",
       "1           1       Victor Smith      M  12th  Huang High School   \n",
       "2           2    Kevin Rodriguez      M  12th  Huang High School   \n",
       "3           3  Dr. Richard Scott      M  12th  Huang High School   \n",
       "4           4         Bonnie Ray      F   9th  Huang High School   \n",
       "\n",
       "   reading_score  math_score  School ID      type  size   budget  \n",
       "0             66          79          0  District  2917  1910635  \n",
       "1             94          61          0  District  2917  1910635  \n",
       "2             90          60          0  District  2917  1910635  \n",
       "3             67          58          0  District  2917  1910635  \n",
       "4             97          84          0  District  2917  1910635  "
      ]
     },
     "execution_count": 2,
     "metadata": {},
     "output_type": "execute_result"
    }
   ],
   "source": [
    "# Dependencies and Setup\n",
    "import pandas as pd\n",
    "import numpy as np\n",
    "\n",
    "# File to Load (Remember to Change These)\n",
    "school_data_to_load = \"data/schools_complete.csv\"\n",
    "student_data_to_load = \"data/students_complete.csv\"\n",
    "\n",
    "# Read School and Student Data File and store into Pandas Data Frames\n",
    "school_data = pd.read_csv(school_data_to_load)\n",
    "student_data = pd.read_csv(student_data_to_load)\n",
    "\n",
    "# Combine the data into a single dataset\n",
    "school_data_complete = pd.merge(student_data, school_data, how=\"left\", on=[\"school_name\", \"school_name\"])\n",
    "school_data_complete.head()\n",
    "\n",
    "#school_data_complete.count()"
   ]
  },
  {
   "cell_type": "markdown",
   "metadata": {},
   "source": [
    "## District Summary\n",
    "\n",
    "* Calculate the total number of schools\n",
    "\n",
    "* Calculate the total number of students\n",
    "\n",
    "* Calculate the total budget\n",
    "\n",
    "* Calculate the average math score \n",
    "\n",
    "* Calculate the average reading score\n",
    "\n",
    "* Calculate the overall passing rate (overall average score), i.e. (avg. math score + avg. reading score)/2\n",
    "\n",
    "* Calculate the percentage of students with a passing math score (70 or greater)\n",
    "\n",
    "* Calculate the percentage of students with a passing reading score (70 or greater)\n",
    "\n",
    "* Create a dataframe to hold the above results\n",
    "\n",
    "* Optional: give the displayed data cleaner formatting"
   ]
  },
  {
   "cell_type": "code",
   "execution_count": 3,
   "metadata": {},
   "outputs": [
    {
     "data": {
      "text/html": [
       "<div>\n",
       "<style scoped>\n",
       "    .dataframe tbody tr th:only-of-type {\n",
       "        vertical-align: middle;\n",
       "    }\n",
       "\n",
       "    .dataframe tbody tr th {\n",
       "        vertical-align: top;\n",
       "    }\n",
       "\n",
       "    .dataframe thead th {\n",
       "        text-align: right;\n",
       "    }\n",
       "</style>\n",
       "<table border=\"1\" class=\"dataframe\">\n",
       "  <thead>\n",
       "    <tr style=\"text-align: right;\">\n",
       "      <th></th>\n",
       "      <th>Student ID</th>\n",
       "      <th>reading_score</th>\n",
       "      <th>math_score</th>\n",
       "      <th>School ID</th>\n",
       "      <th>size</th>\n",
       "      <th>budget</th>\n",
       "    </tr>\n",
       "  </thead>\n",
       "  <tbody>\n",
       "    <tr>\n",
       "      <th>count</th>\n",
       "      <td>39170.000000</td>\n",
       "      <td>39170.00000</td>\n",
       "      <td>39170.000000</td>\n",
       "      <td>39170.000000</td>\n",
       "      <td>39170.000000</td>\n",
       "      <td>3.917000e+04</td>\n",
       "    </tr>\n",
       "    <tr>\n",
       "      <th>mean</th>\n",
       "      <td>19584.500000</td>\n",
       "      <td>81.87784</td>\n",
       "      <td>78.985371</td>\n",
       "      <td>6.978172</td>\n",
       "      <td>3332.957110</td>\n",
       "      <td>2.117241e+06</td>\n",
       "    </tr>\n",
       "    <tr>\n",
       "      <th>std</th>\n",
       "      <td>11307.549359</td>\n",
       "      <td>10.23958</td>\n",
       "      <td>12.309968</td>\n",
       "      <td>4.444329</td>\n",
       "      <td>1323.914069</td>\n",
       "      <td>8.749987e+05</td>\n",
       "    </tr>\n",
       "    <tr>\n",
       "      <th>min</th>\n",
       "      <td>0.000000</td>\n",
       "      <td>63.00000</td>\n",
       "      <td>55.000000</td>\n",
       "      <td>0.000000</td>\n",
       "      <td>427.000000</td>\n",
       "      <td>2.480870e+05</td>\n",
       "    </tr>\n",
       "    <tr>\n",
       "      <th>25%</th>\n",
       "      <td>9792.250000</td>\n",
       "      <td>73.00000</td>\n",
       "      <td>69.000000</td>\n",
       "      <td>3.000000</td>\n",
       "      <td>1858.000000</td>\n",
       "      <td>1.081356e+06</td>\n",
       "    </tr>\n",
       "    <tr>\n",
       "      <th>50%</th>\n",
       "      <td>19584.500000</td>\n",
       "      <td>82.00000</td>\n",
       "      <td>79.000000</td>\n",
       "      <td>7.000000</td>\n",
       "      <td>2949.000000</td>\n",
       "      <td>1.910635e+06</td>\n",
       "    </tr>\n",
       "    <tr>\n",
       "      <th>75%</th>\n",
       "      <td>29376.750000</td>\n",
       "      <td>91.00000</td>\n",
       "      <td>89.000000</td>\n",
       "      <td>11.000000</td>\n",
       "      <td>4635.000000</td>\n",
       "      <td>3.022020e+06</td>\n",
       "    </tr>\n",
       "    <tr>\n",
       "      <th>max</th>\n",
       "      <td>39169.000000</td>\n",
       "      <td>99.00000</td>\n",
       "      <td>99.000000</td>\n",
       "      <td>14.000000</td>\n",
       "      <td>4976.000000</td>\n",
       "      <td>3.124928e+06</td>\n",
       "    </tr>\n",
       "  </tbody>\n",
       "</table>\n",
       "</div>"
      ],
      "text/plain": [
       "         Student ID  reading_score    math_score     School ID          size  \\\n",
       "count  39170.000000    39170.00000  39170.000000  39170.000000  39170.000000   \n",
       "mean   19584.500000       81.87784     78.985371      6.978172   3332.957110   \n",
       "std    11307.549359       10.23958     12.309968      4.444329   1323.914069   \n",
       "min        0.000000       63.00000     55.000000      0.000000    427.000000   \n",
       "25%     9792.250000       73.00000     69.000000      3.000000   1858.000000   \n",
       "50%    19584.500000       82.00000     79.000000      7.000000   2949.000000   \n",
       "75%    29376.750000       91.00000     89.000000     11.000000   4635.000000   \n",
       "max    39169.000000       99.00000     99.000000     14.000000   4976.000000   \n",
       "\n",
       "             budget  \n",
       "count  3.917000e+04  \n",
       "mean   2.117241e+06  \n",
       "std    8.749987e+05  \n",
       "min    2.480870e+05  \n",
       "25%    1.081356e+06  \n",
       "50%    1.910635e+06  \n",
       "75%    3.022020e+06  \n",
       "max    3.124928e+06  "
      ]
     },
     "execution_count": 3,
     "metadata": {},
     "output_type": "execute_result"
    }
   ],
   "source": [
    "# Create a District Summary\n",
    "comp_school = school_data_complete\n",
    "comp_school.describe()"
   ]
  },
  {
   "cell_type": "code",
   "execution_count": 39,
   "metadata": {},
   "outputs": [
    {
     "data": {
      "text/plain": [
       "Index(['Student ID', 'student_name', 'gender', 'grade', 'school_name',\n",
       "       'reading_score', 'math_score', 'School ID', 'type', 'size', 'budget'],\n",
       "      dtype='object')"
      ]
     },
     "execution_count": 39,
     "metadata": {},
     "output_type": "execute_result"
    }
   ],
   "source": [
    "comp_school.keys()"
   ]
  },
  {
   "cell_type": "code",
   "execution_count": 11,
   "metadata": {},
   "outputs": [
    {
     "name": "stdout",
     "output_type": "stream",
     "text": [
      "Total number of schools: 15\n"
     ]
    }
   ],
   "source": [
    "# Total number of schools\n",
    "comp_school['school_name'].value_counts()\n",
    "print(\"Total number of schools: 15\")"
   ]
  },
  {
   "cell_type": "code",
   "execution_count": 30,
   "metadata": {},
   "outputs": [
    {
     "name": "stdout",
     "output_type": "stream",
     "text": [
      "Total number of students: 39170\n"
     ]
    }
   ],
   "source": [
    "# Total number of students\n",
    "comp_school['gender'].value_counts()\n",
    "student_sum = 19735 + 19435\n",
    "print(\"Total number of students: \" + str(student_sum))"
   ]
  },
  {
   "cell_type": "code",
   "execution_count": 81,
   "metadata": {},
   "outputs": [
    {
     "name": "stdout",
     "output_type": "stream",
     "text": [
      "Total budget: 82932329558\n"
     ]
    }
   ],
   "source": [
    "# Total budget\n",
    "tot_budget = comp_school['budget'].sum()\n",
    "print(\"Total budget: \" + str(tot_budget))"
   ]
  },
  {
   "cell_type": "code",
   "execution_count": 82,
   "metadata": {},
   "outputs": [
    {
     "name": "stdout",
     "output_type": "stream",
     "text": [
      "Average math score: 78.98537145774827\n"
     ]
    }
   ],
   "source": [
    "# Average math score\n",
    "math_avg = comp_school['math_score'].mean()\n",
    "print(\"Average math score: \" + str(math_avg))"
   ]
  },
  {
   "cell_type": "code",
   "execution_count": 71,
   "metadata": {},
   "outputs": [
    {
     "name": "stdout",
     "output_type": "stream",
     "text": [
      "Average reading score: 81.878\n"
     ]
    }
   ],
   "source": [
    "# Average reading score\n",
    "read_avg = comp_school['reading_score'].mean()\n",
    "print(\"Average reading score: \" + str(read_avg))"
   ]
  },
  {
   "cell_type": "code",
   "execution_count": 73,
   "metadata": {},
   "outputs": [
    {
     "name": "stdout",
     "output_type": "stream",
     "text": [
      "Overall average score: 80.432\n"
     ]
    }
   ],
   "source": [
    "# Overall average score\n",
    "math = comp_school['math_score'].mean()\n",
    "read = comp_school['reading_score'].mean()\n",
    "overall_avg = (math + read)/2\n",
    "print(\"Overall average score: \" + str(overall_avg))"
   ]
  },
  {
   "cell_type": "code",
   "execution_count": 83,
   "metadata": {},
   "outputs": [
    {
     "name": "stdout",
     "output_type": "stream",
     "text": [
      "The percentage of passing math with a 70 or higher is 74.9808526933878\n"
     ]
    }
   ],
   "source": [
    "# Percentage of passing math (70 or greater)\n",
    "comp_school[(comp_school)['math_score'] >= 70]\n",
    "mpercent_pass = (29370/student_sum)*100\n",
    "print(\"The percentage of passing math with a 70 or higher is \" + str(mpercent_pass))"
   ]
  },
  {
   "cell_type": "code",
   "execution_count": 84,
   "metadata": {},
   "outputs": [
    {
     "name": "stdout",
     "output_type": "stream",
     "text": [
      "The percentage of passing reading with a 70 or higher is 85.80546336482001\n"
     ]
    }
   ],
   "source": [
    "# Percentage of passing reading (70 or greater)\n",
    "comp_school[(comp_school)['reading_score'] >= 70]\n",
    "rpercent_pass = (33610/student_sum)*100\n",
    "print(\"The percentage of passing reading with a 70 or higher is \" + str(rpercent_pass))"
   ]
  },
  {
   "cell_type": "code",
   "execution_count": 89,
   "metadata": {},
   "outputs": [
    {
     "data": {
      "text/html": [
       "<div>\n",
       "<style scoped>\n",
       "    .dataframe tbody tr th:only-of-type {\n",
       "        vertical-align: middle;\n",
       "    }\n",
       "\n",
       "    .dataframe tbody tr th {\n",
       "        vertical-align: top;\n",
       "    }\n",
       "\n",
       "    .dataframe thead th {\n",
       "        text-align: right;\n",
       "    }\n",
       "</style>\n",
       "<table border=\"1\" class=\"dataframe\">\n",
       "  <thead>\n",
       "    <tr style=\"text-align: right;\">\n",
       "      <th></th>\n",
       "      <th>Item</th>\n",
       "      <th>Value</th>\n",
       "    </tr>\n",
       "  </thead>\n",
       "  <tbody>\n",
       "    <tr>\n",
       "      <th>0</th>\n",
       "      <td>Number of Schools</td>\n",
       "      <td>1.500000e+01</td>\n",
       "    </tr>\n",
       "    <tr>\n",
       "      <th>1</th>\n",
       "      <td>Number of Students</td>\n",
       "      <td>3.917000e+04</td>\n",
       "    </tr>\n",
       "    <tr>\n",
       "      <th>2</th>\n",
       "      <td>Total Budget</td>\n",
       "      <td>8.293233e+10</td>\n",
       "    </tr>\n",
       "    <tr>\n",
       "      <th>3</th>\n",
       "      <td>Math Average</td>\n",
       "      <td>7.898537e+01</td>\n",
       "    </tr>\n",
       "    <tr>\n",
       "      <th>4</th>\n",
       "      <td>Reading Average</td>\n",
       "      <td>8.187800e+01</td>\n",
       "    </tr>\n",
       "    <tr>\n",
       "      <th>5</th>\n",
       "      <td>Overall Average</td>\n",
       "      <td>8.043200e+01</td>\n",
       "    </tr>\n",
       "    <tr>\n",
       "      <th>6</th>\n",
       "      <td>Math Pass Percentage</td>\n",
       "      <td>7.498085e+01</td>\n",
       "    </tr>\n",
       "    <tr>\n",
       "      <th>7</th>\n",
       "      <td>Reading Pass Percentage</td>\n",
       "      <td>8.580546e+01</td>\n",
       "    </tr>\n",
       "  </tbody>\n",
       "</table>\n",
       "</div>"
      ],
      "text/plain": [
       "                      Item         Value\n",
       "0        Number of Schools  1.500000e+01\n",
       "1       Number of Students  3.917000e+04\n",
       "2             Total Budget  8.293233e+10\n",
       "3             Math Average  7.898537e+01\n",
       "4          Reading Average  8.187800e+01\n",
       "5          Overall Average  8.043200e+01\n",
       "6     Math Pass Percentage  7.498085e+01\n",
       "7  Reading Pass Percentage  8.580546e+01"
      ]
     },
     "execution_count": 89,
     "metadata": {},
     "output_type": "execute_result"
    }
   ],
   "source": [
    "district = [['Number of Schools',15],\n",
    "        ['Number of Students',39170],\n",
    "        ['Total Budget',82932329558],\n",
    "        ['Math Average',78.98537145774827],\n",
    "        ['Reading Average',81.878],\n",
    "        ['Overall Average',80.432],\n",
    "        ['Math Pass Percentage',74.9808526933878],\n",
    "        ['Reading Pass Percentage',85.80546336482001]]\n",
    "district_summary = pd.DataFrame(district, columns = ['Item','Value'])\n",
    "district_summary"
   ]
  },
  {
   "cell_type": "markdown",
   "metadata": {},
   "source": [
    "## School Summary"
   ]
  },
  {
   "cell_type": "markdown",
   "metadata": {},
   "source": [
    "* Create an overview table that summarizes key metrics about each school, including:\n",
    "  * School Name\n",
    "  * School Type\n",
    "  * Total Students\n",
    "  * Total School Budget\n",
    "  * Per Student Budget\n",
    "  * Average Math Score\n",
    "  * Average Reading Score\n",
    "  * % Passing Math\n",
    "  * % Passing Reading\n",
    "  * Overall Passing Rate (Average of the above two)\n",
    "  \n",
    "* Create a dataframe to hold the above results"
   ]
  },
  {
   "cell_type": "markdown",
   "metadata": {},
   "source": [
    "### Top Performing Schools (By Passing Rate)"
   ]
  },
  {
   "cell_type": "markdown",
   "metadata": {},
   "source": [
    "* Sort and display the top five schools in overall passing rate"
   ]
  },
  {
   "cell_type": "code",
   "execution_count": 19,
   "metadata": {},
   "outputs": [
    {
     "data": {
      "text/plain": [
       "Bailey High School       4976\n",
       "Johnson High School      4761\n",
       "Hernandez High School    4635\n",
       "Rodriguez High School    3999\n",
       "Figueroa High School     2949\n",
       "Huang High School        2917\n",
       "Ford High School         2739\n",
       "Wilson High School       2283\n",
       "Cabrera High School      1858\n",
       "Wright High School       1800\n",
       "Shelton High School      1761\n",
       "Thomas High School       1635\n",
       "Griffin High School      1468\n",
       "Pena High School          962\n",
       "Holden High School        427\n",
       "Name: school_name, dtype: int64"
      ]
     },
     "execution_count": 19,
     "metadata": {},
     "output_type": "execute_result"
    }
   ],
   "source": [
    "#  Sort and display the top five schools in overall passing rate\n",
    "comp_school['school_name'].value_counts()"
   ]
  },
  {
   "cell_type": "code",
   "execution_count": 67,
   "metadata": {
    "scrolled": true
   },
   "outputs": [],
   "source": [
    "# Calculate total school budget\n",
    "\n",
    "# Bailey High School\n",
    "bail = comp_school[(comp_school['school_name'] == \"Bailey High School\")]\n",
    "# Johnson High School\n",
    "john = comp_school[(comp_school['school_name'] == \"Johnson High School\")]\n",
    "# Hernandez High School\n",
    "hern = comp_school[(comp_school['school_name'] == \"Hernandez High School\")]\n",
    "# Rodriguez High School\n",
    "rod = comp_school[(comp_school['school_name'] == \"Rodriguez High School\")]\n",
    "# Figueroa High School\n",
    "fig = comp_school[(comp_school['school_name'] == \"Figueroa High School\")]\n",
    "# Huang High School\n",
    "hua = comp_school[(comp_school['school_name'] == \"Huang High School\")]\n",
    "# Ford High School\n",
    "ford = comp_school[(comp_school['school_name'] == \"Ford High School\")]\n",
    "# Wilson High School\n",
    "wil = comp_school[(comp_school['school_name'] == \"Wilson High School\")]\n",
    "# Cabrera High School\n",
    "cab = comp_school[(comp_school['school_name'] == \"Cabrera High School\")]\n",
    "# Wright High School\n",
    "wri = comp_school[(comp_school['school_name'] == \"Wright High School\")]\n",
    "# Shelton High School\n",
    "she = comp_school[(comp_school['school_name'] == \"Shelton High School\")]\n",
    "# Thomas High School\n",
    "tho = comp_school[(comp_school['school_name'] == \"Thomas High School\")]\n",
    "# Griffin High School\n",
    "grif = comp_school[(comp_school['school_name'] == \"Griffin High School\")]\n",
    "# Pena High School\n",
    "pen = comp_school[(comp_school['school_name'] == \"Pena High School\")]\n",
    "# Holden High School\n",
    "hold = comp_school[(comp_school['school_name'] == \"Holden High School\")]"
   ]
  },
  {
   "cell_type": "code",
   "execution_count": null,
   "metadata": {},
   "outputs": [],
   "source": [
    "# Calculate per student budget\n",
    "\n",
    "# Bailey High School\n",
    "# Johnson High School\n",
    "# Hernandez High School\n",
    "# Rodriguez High School\n",
    "# Figueroa High School\n",
    "# Huang High School\n",
    "# Ford High School\n",
    "# Wilson High School\n",
    "# Cabrera High School\n",
    "# Wright High School\n",
    "# Shelton High School\n",
    "# Thomas High School\n",
    "# Griffin High School\n",
    "# Pena High School\n",
    "# Holden High School\n"
   ]
  },
  {
   "cell_type": "code",
   "execution_count": 74,
   "metadata": {},
   "outputs": [
    {
     "name": "stdout",
     "output_type": "stream",
     "text": [
      "The Bailey High School's math average is 77.04843247588424, and reading average is 81.03396302250803\n",
      "The Johnson High School's math average is 77.07246376811594, and reading average is 80.96639361478681\n",
      "The Hernandez High School's math average is 77.28975188781014, and reading average is 80.9344120819849\n",
      "The Rodriguez High School's math average is 76.84271067766942, and reading average is 80.74468617154288\n",
      "The Figeroa High School's math average is 76.71176670057646, and reading average is 81.15801966768396\n",
      "The Huang High School's math average is 76.62941378128214, and reading average is 81.18272197463148\n",
      "The Ford High School's math average is 77.10259218692954, and reading average is 80.74625775830594\n",
      "The Wilson High School's math average is 83.2742006132282, and reading average is 83.98948751642575\n",
      "The Cabrera High School's math average is 83.06189451022605, and reading average is 83.97578040904197\n",
      "The Wright High School's math average is 83.68222222222222, and reading average is 83.955\n",
      "The Shelton High School's math average is 83.3594548551959, and reading average is 83.72572402044293\n",
      "The Thomas High School's math average is 83.4183486238532, and reading average is 83.84892966360856\n",
      "The Griffin High School's math average is 83.35149863760218, and reading average is 83.816757493188\n",
      "The Pena High School's math average is 83.83991683991684, and reading average is 84.04469854469855\n",
      "The Holden High School's math average is 83.80327868852459, and reading average is 83.81498829039812\n"
     ]
    }
   ],
   "source": [
    "# Cacluate the avg math and reading score\n",
    "\n",
    "# Bailey High School\n",
    "bail_math_sum = bail['math_score'].sum()\n",
    "bail_read_sum = bail['reading_score'].sum()\n",
    "bailhs_tot = 4976\n",
    "bail_mavg = bail_math_sum/bailhs_tot\n",
    "bail_ravg = bail_read_sum/bailhs_tot\n",
    "print(\"The Bailey High School's math average is \" + str(bail_mavg) + \", and reading average is \" + str(bail_ravg))\n",
    "\n",
    "# Johnson High School\n",
    "john_math_sum = john['math_score'].sum()\n",
    "john_read_sum = john['reading_score'].sum()\n",
    "johnhs_tot = 4761\n",
    "john_mavg = john_math_sum/johnhs_tot\n",
    "john_ravg = john_read_sum/johnhs_tot\n",
    "print(\"The Johnson High School's math average is \" + str(john_mavg) + \", and reading average is \" + str(john_ravg))\n",
    "\n",
    "# Hernandez High School\n",
    "hern_math_sum = hern['math_score'].sum()\n",
    "hern_read_sum = hern['reading_score'].sum()\n",
    "hernhs_tot = 4635\n",
    "hern_mavg = hern_math_sum/hernhs_tot\n",
    "hern_ravg = hern_read_sum/hernhs_tot\n",
    "print(\"The Hernandez High School's math average is \" + str(hern_mavg) + \", and reading average is \" + str(hern_ravg))\n",
    "\n",
    "# Rodriguez High School\n",
    "rod_math_sum = rod['math_score'].sum()\n",
    "rod_read_sum = rod['reading_score'].sum()\n",
    "rodhs_tot = 3999\n",
    "rod_mavg = rod_math_sum/rodhs_tot\n",
    "rod_ravg = rod_read_sum/rodhs_tot\n",
    "print(\"The Rodriguez High School's math average is \" + str(rod_mavg) + \", and reading average is \" + str(rod_ravg))\n",
    "\n",
    "# Figueroa High School\n",
    "fig_math_sum = fig['math_score'].sum()\n",
    "fig_read_sum = fig['reading_score'].sum()\n",
    "fighs_tot = 2949\n",
    "fig_mavg = fig_math_sum/fighs_tot\n",
    "fig_ravg = fig_read_sum/fighs_tot\n",
    "print(\"The Figeroa High School's math average is \" + str(fig_mavg) + \", and reading average is \" + str(fig_ravg))\n",
    "\n",
    "# Huang High School\n",
    "hua_math_sum = hua['math_score'].sum()\n",
    "hua_read_sum = hua['reading_score'].sum()\n",
    "huahs_tot = 2917  \n",
    "hua_mavg = hua_math_sum/huahs_tot\n",
    "hua_ravg = hua_read_sum/huahs_tot\n",
    "print(\"The Huang High School's math average is \" + str(hua_mavg) + \", and reading average is \" + str(hua_ravg))\n",
    "\n",
    "# Ford High School\n",
    "ford_math_sum = ford['math_score'].sum()\n",
    "ford_read_sum = ford['reading_score'].sum()\n",
    "fordhs_tot = 2739\n",
    "ford_mavg = ford_math_sum/fordhs_tot\n",
    "ford_ravg = ford_read_sum/fordhs_tot\n",
    "print(\"The Ford High School's math average is \" + str(ford_mavg) + \", and reading average is \" + str(ford_ravg))\n",
    "\n",
    "# Wilson High School\n",
    "wil_math_sum = wil['math_score'].sum()\n",
    "wil_read_sum = wil['reading_score'].sum()\n",
    "wilhs_tot = 2283\n",
    "wil_mavg = wil_math_sum/wilhs_tot\n",
    "wil_ravg = wil_read_sum/wilhs_tot\n",
    "print(\"The Wilson High School's math average is \" + str(wil_mavg) + \", and reading average is \" + str(wil_ravg))\n",
    "\n",
    "# Cabrera High School\n",
    "cab_math_sum = cab['math_score'].sum()\n",
    "cab_read_sum = cab['reading_score'].sum()\n",
    "cabhs_tot = 1858\n",
    "cab_mavg = cab_math_sum/cabhs_tot\n",
    "cab_ravg = cab_read_sum/cabhs_tot\n",
    "print(\"The Cabrera High School's math average is \" + str(cab_mavg) + \", and reading average is \" + str(cab_ravg))\n",
    "\n",
    "# Wright High School\n",
    "wri_math_sum = wri['math_score'].sum()\n",
    "wri_read_sum = wri['reading_score'].sum()\n",
    "wrihs_tot = 1800\n",
    "wri_mavg = wri_math_sum/wrihs_tot\n",
    "wri_ravg = wri_read_sum/wrihs_tot\n",
    "print(\"The Wright High School's math average is \" + str(wri_mavg) + \", and reading average is \" + str(wri_ravg))\n",
    "\n",
    "# Shelton High School\n",
    "she_math_sum = she['math_score'].sum()\n",
    "she_read_sum = she['reading_score'].sum()\n",
    "shehs_tot = 1761\n",
    "she_mavg = she_math_sum/shehs_tot\n",
    "she_ravg = she_read_sum/shehs_tot\n",
    "print(\"The Shelton High School's math average is \" + str(she_mavg) + \", and reading average is \" + str(she_ravg))\n",
    "\n",
    "# Thomas High School\n",
    "tho_math_sum = tho['math_score'].sum()\n",
    "tho_read_sum = tho['reading_score'].sum()\n",
    "thohs_tot = 1635\n",
    "tho_mavg = tho_math_sum/thohs_tot\n",
    "tho_ravg = tho_read_sum/thohs_tot\n",
    "print(\"The Thomas High School's math average is \" + str(tho_mavg) + \", and reading average is \" + str(tho_ravg))\n",
    "\n",
    "# Griffin High School\n",
    "grif_math_sum = grif['math_score'].sum()\n",
    "grif_read_sum = grif['reading_score'].sum()\n",
    "grifhs_tot = 1468\n",
    "grif_mavg = grif_math_sum/grifhs_tot\n",
    "grif_ravg = grif_read_sum/grifhs_tot\n",
    "print(\"The Griffin High School's math average is \" + str(grif_mavg) + \", and reading average is \" + str(grif_ravg))\n",
    "\n",
    "# Pena High School\n",
    "pen_math_sum = pen['math_score'].sum()\n",
    "pen_read_sum = pen['reading_score'].sum()\n",
    "penhs_tot = 962\n",
    "pen_mavg = pen_math_sum/penhs_tot\n",
    "pen_ravg = pen_read_sum/penhs_tot\n",
    "print(\"The Pena High School's math average is \" + str(pen_mavg) + \", and reading average is \" + str(pen_ravg))\n",
    "\n",
    "# Holden High School\n",
    "hold_math_sum = hold['math_score'].sum()\n",
    "hold_read_sum = hold['reading_score'].sum()\n",
    "holdhs_tot = 427\n",
    "hold_mavg = hold_math_sum/holdhs_tot\n",
    "hold_ravg = hold_read_sum/holdhs_tot\n",
    "print(\"The Holden High School's math average is \" + str(hold_mavg) + \", and reading average is \" + str(hold_ravg))"
   ]
  },
  {
   "cell_type": "markdown",
   "metadata": {},
   "source": [
    "#### Find the passing rate for math and reading (above 70 points)"
   ]
  },
  {
   "cell_type": "code",
   "execution_count": 81,
   "metadata": {},
   "outputs": [
    {
     "name": "stdout",
     "output_type": "stream",
     "text": [
      "The math passing rate of Bailey High School is 66.68006430868168\n",
      "The math passing rate of Johnson High School is 66.0575509346776\n",
      "The math passing rate of Hernandez High School is 66.7529665587918\n",
      "The math passing rate of Rodriguez High School is 66.36659164791197\n",
      "The math passing rate of Figueroa High School is 65.98847066802306\n",
      "The math passing rate of Huang High School is 65.68392183750429\n",
      "The math passing rate of Ford High School is 68.3096020445418\n",
      "The math passing rate of Wilson High School is 93.8677179150241\n",
      "The math passing rate of Cabrera High School is 94.1334768568353\n",
      "The math passing rate of Wright High School is 93.33333333333333\n",
      "The math passing rate of Shelton High School is 93.8671209540034\n",
      "The math passing rate of Thomas High School is 93.27217125382263\n",
      "The math passing rate of Griffin High School is 93.39237057220708\n",
      "The math passing rate of Pena High School is 94.5945945945946\n",
      "The math passing rate of Holden High School is 92.50585480093677\n"
     ]
    }
   ],
   "source": [
    "# Find the total counts of math result\n",
    "# Find the counts for math result in each school that pass 70 or higher\n",
    "\n",
    "# Bailey High School\n",
    "bail_mpass_tot = len(bail[(bail)['math_score'] >= 70])\n",
    "# Johnson High School\n",
    "john_mpass_tot = len(john[(john)['math_score'] >= 70])\n",
    "# Hernandez High School\n",
    "hern_mpass_tot = len(hern[(hern)['math_score'] >= 70])\n",
    "# Rodriguez High School\n",
    "rod_mpass_tot = len(rod[(rod)['math_score'] >= 70])\n",
    "# Figueroa High School\n",
    "fig_mpass_tot = len(fig[(fig)['math_score'] >= 70])\n",
    "# Huang High School\n",
    "hua_mpass_tot = len(hua[(hua)['math_score'] >= 70])\n",
    "# Ford High School\n",
    "ford_mpass_tot = len(ford[(ford)['math_score'] >= 70])\n",
    "# Wilson High School\n",
    "wil_mpass_tot = len(wil[(wil)['math_score'] >= 70])\n",
    "# Cabrera High School\n",
    "cab_mpass_tot = len(cab[(cab)['math_score'] >= 70])\n",
    "# Wright High School\n",
    "wri_mpass_tot = len(wri[(wri)['math_score'] >= 70])\n",
    "# Shelton High School\n",
    "she_mpass_tot = len(she[(she)['math_score'] >= 70])\n",
    "# Thomas High School\n",
    "tho_mpass_tot = len(tho[(tho)['math_score'] >= 70])\n",
    "# Griffin High School\n",
    "grif_mpass_tot = len(grif[(grif)['math_score'] >= 70])\n",
    "# Pena High School\n",
    "pen_mpass_tot = len(pen[(pen)['math_score'] >= 70])\n",
    "# Holden High School\n",
    "hold_mpass_tot = len(hold[(hold)['math_score'] >= 70])\n",
    "\n",
    "# Calculate the math passing rate\n",
    "\n",
    "# Bailey High School\n",
    "bail_mp = (bail_mpass_tot/bailhs_tot)*100\n",
    "print(\"The math passing rate of Bailey High School is \" + str(bail_mp))\n",
    "# Johnson High School\n",
    "john_mp = (john_mpass_tot/johnhs_tot)*100\n",
    "print(\"The math passing rate of Johnson High School is \" + str(john_mp))\n",
    "# Hernandez High School\n",
    "hern_mp = (hern_mpass_tot/hernhs_tot)*100\n",
    "print(\"The math passing rate of Hernandez High School is \" + str(hern_mp))\n",
    "# Rodriguez High School\n",
    "rod_mp = (rod_mpass_tot/rodhs_tot)*100\n",
    "print(\"The math passing rate of Rodriguez High School is \" + str(rod_mp))\n",
    "# Figueroa High School\n",
    "fig_mp = (fig_mpass_tot/fighs_tot)*100\n",
    "print(\"The math passing rate of Figueroa High School is \" + str(fig_mp))\n",
    "# Huang High School\n",
    "hua_mp = (hua_mpass_tot/huahs_tot)*100\n",
    "print(\"The math passing rate of Huang High School is \" + str(hua_mp))\n",
    "# Ford High School\n",
    "ford_mp = (ford_mpass_tot/fordhs_tot)*100\n",
    "print(\"The math passing rate of Ford High School is \" + str(ford_mp))\n",
    "# Wilson High School\n",
    "wil_mp = (wil_mpass_tot/wilhs_tot)*100\n",
    "print(\"The math passing rate of Wilson High School is \" + str(wil_mp))\n",
    "# Cabrera High School\n",
    "cab_mp = (cab_mpass_tot/cabhs_tot)*100\n",
    "print(\"The math passing rate of Cabrera High School is \" + str(cab_mp))\n",
    "# Wright High School\n",
    "wri_mp = (wri_mpass_tot/wrihs_tot)*100\n",
    "print(\"The math passing rate of Wright High School is \" + str(wri_mp))\n",
    "# Shelton High School\n",
    "she_mp = (she_mpass_tot/shehs_tot)*100\n",
    "print(\"The math passing rate of Shelton High School is \" + str(she_mp))\n",
    "# Thomas High School\n",
    "tho_mp = (tho_mpass_tot/thohs_tot)*100\n",
    "print(\"The math passing rate of Thomas High School is \" + str(tho_mp))\n",
    "# Griffin High School\n",
    "grif_mp = (grif_mpass_tot/grifhs_tot)*100\n",
    "print(\"The math passing rate of Griffin High School is \" + str(grif_mp))\n",
    "# Pena High School\n",
    "pen_mp = (pen_mpass_tot/penhs_tot)*100\n",
    "print(\"The math passing rate of Pena High School is \" + str(pen_mp))\n",
    "# Holden High School\n",
    "hold_mp = (hold_mpass_tot/holdhs_tot)*100\n",
    "print(\"The math passing rate of Holden High School is \" + str(hold_mp))"
   ]
  },
  {
   "cell_type": "code",
   "execution_count": 80,
   "metadata": {},
   "outputs": [
    {
     "name": "stdout",
     "output_type": "stream",
     "text": [
      "The reading passing rate of Bailey High School is 81.93327974276528\n",
      "The reading passing rate of Johnson High School is 81.2224322621298\n",
      "The reading passing rate of Hernandez High School is 80.86299892125135\n",
      "The reading passing rate of Rodriguez High School is 80.22005501375344\n",
      "The reading passing rate of Figueroa High School is 65.98847066802306\n",
      "The reading passing rate of Huang High School is 81.31642098045938\n",
      "The reading passing rate of Ford High School is 79.29901423877328\n",
      "The reading passing rate of Wilson High School is 96.53964082347788\n",
      "The reading passing rate of Cabrera High School is 97.03982777179763\n",
      "The reading passing rate of Wright High School is 96.61111111111111\n",
      "The reading passing rate of Shelton High School is 95.85462805224304\n",
      "The reading passing rate of Thomas High School is 97.30886850152906\n",
      "The reading passing rate of Griffin High School is 97.13896457765668\n",
      "The reading passing rate of Pena High School is 95.94594594594594\n",
      "The reading passing rate of Holden High School is 96.25292740046838\n"
     ]
    }
   ],
   "source": [
    "# Find the total counts of read result\n",
    "# Find the counts for read result in each school that pass 70 or higher\n",
    "\n",
    "# Bailey\n",
    "bail_rpass_tot = len(bail[(bail)['reading_score'] >= 70])\n",
    "# Johnson High School\n",
    "john_rpass_tot = len(john[(john)['reading_score'] >= 70])\n",
    "# Hernandez High School\n",
    "hern_rpass_tot = len(hern[(hern)['reading_score'] >= 70])\n",
    "# Rodriguez High School\n",
    "rod_rpass_tot = len(rod[(rod)['reading_score'] >= 70])\n",
    "# Figueroa High School\n",
    "fig_rpass_tot = len(fig[(fig)['reading_score'] >= 70])\n",
    "# Huang High School\n",
    "hua_rpass_tot = len(hua[(hua)['reading_score'] >= 70])\n",
    "# Ford High School\n",
    "ford_rpass_tot = len(ford[(ford)['reading_score'] >= 70])\n",
    "# Wilson High School\n",
    "wil_rpass_tot = len(wil[(wil)['reading_score'] >= 70])\n",
    "# Cabrera High School\n",
    "cab_rpass_tot = len(cab[(cab)['reading_score'] >= 70])\n",
    "# Wright High School\n",
    "wri_rpass_tot = len(wri[(wri)['reading_score'] >= 70])\n",
    "# Shelton High School\n",
    "she_rpass_tot = len(she[(she)['reading_score'] >= 70])\n",
    "# Thomas High School\n",
    "tho_rpass_tot = len(tho[(tho)['reading_score'] >= 70])\n",
    "# Griffin High School\n",
    "grif_rpass_tot = len(grif[(grif)['reading_score'] >= 70])\n",
    "# Pena High School\n",
    "pen_rpass_tot = len(pen[(pen)['reading_score'] >= 70])\n",
    "# Holden High School\n",
    "hold_rpass_tot = len(hold[(hold)['reading_score'] >= 70])\n",
    "\n",
    "# Calculate the read passing rate\n",
    "\n",
    "# Bailey High School\n",
    "bail_rp = (bail_rpass_tot/bailhs_tot)*100\n",
    "print(\"The reading passing rate of Bailey High School is \" + str(bail_rp))\n",
    "# Johnson High School\n",
    "john_rp = (john_rpass_tot/johnhs_tot)*100\n",
    "print(\"The reading passing rate of Johnson High School is \" + str(john_rp))\n",
    "# Hernandez High School\n",
    "hern_rp = (hern_rpass_tot/hernhs_tot)*100\n",
    "print(\"The reading passing rate of Hernandez High School is \" + str(hern_rp))\n",
    "# Rodriguez High School\n",
    "rod_rp = (rod_rpass_tot/rodhs_tot)*100\n",
    "print(\"The reading passing rate of Rodriguez High School is \" + str(rod_rp))\n",
    "# Figueroa High School\n",
    "fig_rp = (fig_rpass_tot/fighs_tot)*100\n",
    "print(\"The reading passing rate of Figueroa High School is \" + str(fig_mp))\n",
    "# Huang High School\n",
    "hua_rp = (hua_rpass_tot/huahs_tot)*100\n",
    "print(\"The reading passing rate of Huang High School is \" + str(hua_rp))\n",
    "# Ford High School\n",
    "ford_rp = (ford_rpass_tot/fordhs_tot)*100\n",
    "print(\"The reading passing rate of Ford High School is \" + str(ford_rp))\n",
    "# Wilson High School\n",
    "wil_rp = (wil_rpass_tot/wilhs_tot)*100\n",
    "print(\"The reading passing rate of Wilson High School is \" + str(wil_rp))\n",
    "# Cabrera High School\n",
    "cab_rp = (cab_rpass_tot/cabhs_tot)*100\n",
    "print(\"The reading passing rate of Cabrera High School is \" + str(cab_rp))\n",
    "# Wright High School\n",
    "wri_rp = (wri_rpass_tot/wrihs_tot)*100\n",
    "print(\"The reading passing rate of Wright High School is \" + str(wri_rp))\n",
    "# Shelton High School\n",
    "she_rp = (she_rpass_tot/shehs_tot)*100\n",
    "print(\"The reading passing rate of Shelton High School is \" + str(she_rp))\n",
    "# Thomas High School\n",
    "tho_rp = (tho_rpass_tot/thohs_tot)*100\n",
    "print(\"The reading passing rate of Thomas High School is \" + str(tho_rp))\n",
    "# Griffin High School\n",
    "grif_rp = (grif_rpass_tot/grifhs_tot)*100\n",
    "print(\"The reading passing rate of Griffin High School is \" + str(grif_rp))\n",
    "# Pena High School\n",
    "pen_rp = (pen_rpass_tot/penhs_tot)*100\n",
    "print(\"The reading passing rate of Pena High School is \" + str(pen_rp))\n",
    "# Holden High School\n",
    "hold_rp = (hold_rpass_tot/holdhs_tot)*100\n",
    "print(\"The reading passing rate of Holden High School is \" + str(hold_rp))"
   ]
  },
  {
   "cell_type": "code",
   "execution_count": 79,
   "metadata": {},
   "outputs": [
    {
     "name": "stdout",
     "output_type": "stream",
     "text": [
      "The overall passing rate of Bailey High School is 74.30667202572349\n",
      "The overall passing rate of Johnson High School is 73.6399915984037\n",
      "The overall passing rate of Hernandez High School is 73.80798274002157\n",
      "The overall passing rate of Rodriguez High School is 73.2933233308327\n",
      "The overall passing rate of Figueroa High School is 73.36385215327229\n",
      "The overall passing rate of Huang High School is 73.50017140898183\n",
      "The overall passing rate of Ford High School is 73.80430814165754\n",
      "The overall passing rate of Wilson High School is 95.20367936925099\n",
      "The overall passing rate of Cabrera High School is 95.58665231431647\n",
      "The overall passing rate of Wright High School is 94.97222222222223\n",
      "The overall passing rate of Shelton High School is 94.86087450312323\n",
      "The overall passing rate of Thomas High School is 95.29051987767585\n",
      "The overall passing rate of Griffin High School is 95.26566757493188\n",
      "The overall passing rate of Pena High School is 95.27027027027026\n",
      "The overall passing rate of Holden High School is 94.37939110070258\n"
     ]
    }
   ],
   "source": [
    "# Calculate the overall passing rate (average of the math and reading passing rate)\n",
    "\n",
    "# Bailey\n",
    "bail_overall = (bail_mp + bail_rp)/2\n",
    "print(\"The overall passing rate of Bailey High School is \" + str(bail_overall))\n",
    "# Johnson\n",
    "john_overall = (john_mp + john_rp)/2\n",
    "print(\"The overall passing rate of Johnson High School is \" + str(john_overall))\n",
    "# Hernandez\n",
    "hern_overall = (hern_mp + hern_rp)/2\n",
    "print(\"The overall passing rate of Hernandez High School is \" + str(hern_overall))\n",
    "# Rodriguez\n",
    "rod_overall = (rod_mp + rod_rp)/2\n",
    "print(\"The overall passing rate of Rodriguez High School is \" + str(rod_overall))\n",
    "# Figueroa\n",
    "fig_overall = (fig_mp + fig_rp)/2\n",
    "print(\"The overall passing rate of Figueroa High School is \" + str(fig_overall))\n",
    "# Huang High School\n",
    "hua_overall = (hua_mp + hua_rp)/2\n",
    "print(\"The overall passing rate of Huang High School is \" + str(hua_overall))\n",
    "# Ford High School\n",
    "ford_overall = (ford_mp + ford_rp)/2\n",
    "print(\"The overall passing rate of Ford High School is \" + str(ford_overall))\n",
    "# Wilson High School\n",
    "wil_overall = (wil_mp + wil_rp)/2\n",
    "print(\"The overall passing rate of Wilson High School is \" + str(wil_overall))\n",
    "# Cabrera High School\n",
    "cab_overall = (cab_mp + cab_rp)/2\n",
    "print(\"The overall passing rate of Cabrera High School is \" + str(cab_overall))\n",
    "# Wright High School\n",
    "wri_overall = (wri_mp + wri_rp)/2\n",
    "print(\"The overall passing rate of Wright High School is \" + str(wri_overall))\n",
    "# Shelton High School\n",
    "she_overall = (she_mp + she_rp)/2\n",
    "print(\"The overall passing rate of Shelton High School is \" + str(she_overall))\n",
    "# Thomas High School\n",
    "tho_overall = (tho_mp + tho_rp)/2\n",
    "print(\"The overall passing rate of Thomas High School is \" + str(tho_overall))\n",
    "# Griffin High School\n",
    "grif_overall = (grif_mp + grif_rp)/2\n",
    "print(\"The overall passing rate of Griffin High School is \" + str(grif_overall))\n",
    "# Pena High School\n",
    "pen_overall = (pen_mp + pen_rp)/2\n",
    "print(\"The overall passing rate of Pena High School is \" + str(pen_overall))\n",
    "# Holden High School\n",
    "hold_overall = (hold_mp + hold_rp)/2\n",
    "print(\"The overall passing rate of Holden High School is \" + str(hold_overall))"
   ]
  },
  {
   "cell_type": "code",
   "execution_count": null,
   "metadata": {},
   "outputs": [],
   "source": []
  },
  {
   "cell_type": "markdown",
   "metadata": {},
   "source": [
    "### Bottom Performing Schools (By Passing Rate)"
   ]
  },
  {
   "cell_type": "markdown",
   "metadata": {},
   "source": [
    "* Sort and display the five worst-performing schools"
   ]
  },
  {
   "cell_type": "code",
   "execution_count": null,
   "metadata": {},
   "outputs": [],
   "source": [
    "#  Sort and display the worst five schools in overall passing rate\n",
    "\n",
    "\n"
   ]
  },
  {
   "cell_type": "markdown",
   "metadata": {
    "collapsed": true
   },
   "source": [
    "## Math Scores by Grade"
   ]
  },
  {
   "cell_type": "markdown",
   "metadata": {},
   "source": [
    "* Create a table that lists the average Reading Score for students of each grade level (9th, 10th, 11th, 12th) at each school.\n",
    "\n",
    "  * Create a pandas series for each grade. Hint: use a conditional statement.\n",
    "  \n",
    "  * Group each series by school\n",
    "  \n",
    "  * Combine the series into a dataframe\n",
    "  \n",
    "  * Optional: give the displayed data cleaner formatting"
   ]
  },
  {
   "cell_type": "code",
   "execution_count": null,
   "metadata": {},
   "outputs": [],
   "source": [
    "# Create table that lists the average math score for each school of each grade level.\n",
    "\n",
    "\n",
    "\n"
   ]
  },
  {
   "cell_type": "code",
   "execution_count": null,
   "metadata": {},
   "outputs": [],
   "source": [
    "# Calculate the average math score for 9th grade in each school\n",
    "\n",
    "\n"
   ]
  },
  {
   "cell_type": "code",
   "execution_count": null,
   "metadata": {},
   "outputs": [],
   "source": [
    "# Calculate the average math score for 10th grade in each school\n",
    "\n",
    "\n"
   ]
  },
  {
   "cell_type": "code",
   "execution_count": null,
   "metadata": {},
   "outputs": [],
   "source": [
    "# Calculate the average math score for 11th grade in each school\n",
    "\n",
    "\n"
   ]
  },
  {
   "cell_type": "code",
   "execution_count": null,
   "metadata": {},
   "outputs": [],
   "source": [
    "# Calculate the average math score for 12th grade in each school\n",
    "\n",
    "\n"
   ]
  },
  {
   "cell_type": "markdown",
   "metadata": {},
   "source": [
    "### Reading Score by Grade "
   ]
  },
  {
   "cell_type": "markdown",
   "metadata": {},
   "source": [
    "* Perform the same operations as above for reading scores"
   ]
  },
  {
   "cell_type": "code",
   "execution_count": null,
   "metadata": {},
   "outputs": [],
   "source": [
    "# Create table that lists the average reading score for each school of each grade level.\n",
    "\n"
   ]
  },
  {
   "cell_type": "code",
   "execution_count": null,
   "metadata": {},
   "outputs": [],
   "source": [
    "# Calculate the average reading score for 9th grade in each school\n",
    "\n",
    "\n"
   ]
  },
  {
   "cell_type": "code",
   "execution_count": null,
   "metadata": {},
   "outputs": [],
   "source": [
    "# Calculate the average reading score for 10th grade in each school\n",
    "\n",
    "\n"
   ]
  },
  {
   "cell_type": "code",
   "execution_count": null,
   "metadata": {},
   "outputs": [],
   "source": [
    "# Calculate the average reading score for 11th grade in each school\n",
    "\n",
    "\n"
   ]
  },
  {
   "cell_type": "code",
   "execution_count": null,
   "metadata": {},
   "outputs": [],
   "source": [
    "# Calculate the average reading score for 12th grade in each school\n",
    "\n",
    "\n"
   ]
  },
  {
   "cell_type": "markdown",
   "metadata": {},
   "source": [
    "## Scores by School Spending"
   ]
  },
  {
   "cell_type": "markdown",
   "metadata": {},
   "source": [
    "* Create a table that breaks down school performances based on average Spending Ranges (Per Student). Use 4 reasonable bins to group school spending. Include in the table each of the following:\n",
    "  * Average Math Score\n",
    "  * Average Reading Score\n",
    "  * % Passing Math\n",
    "  * % Passing Reading\n",
    "  * Overall Passing Rate (Average of the above two)"
   ]
  },
  {
   "cell_type": "code",
   "execution_count": null,
   "metadata": {},
   "outputs": [],
   "source": [
    "# Sample bins. Feel free to create your own bins.\n",
    "spending_bins = [0, 585, 615, 645, 675]\n",
    "group_names = [\"<$585\", \"$585-615\", \"$615-645\", \"$645-675\"]"
   ]
  },
  {
   "cell_type": "code",
   "execution_count": null,
   "metadata": {},
   "outputs": [],
   "source": [
    "# Create a new column to show budget per student in each row\n",
    "\n"
   ]
  },
  {
   "cell_type": "code",
   "execution_count": null,
   "metadata": {},
   "outputs": [],
   "source": [
    "# Create a new column to define the spending ranges per student\n",
    "\n",
    "\n"
   ]
  },
  {
   "cell_type": "code",
   "execution_count": null,
   "metadata": {},
   "outputs": [],
   "source": [
    "# Calculate the average math score within each spending range\n",
    "\n",
    "\n",
    "\n"
   ]
  },
  {
   "cell_type": "code",
   "execution_count": null,
   "metadata": {},
   "outputs": [],
   "source": [
    "# Calculate the percentage passing rate for math in each spending range\n",
    "\n",
    "\n",
    "\n"
   ]
  },
  {
   "cell_type": "code",
   "execution_count": null,
   "metadata": {},
   "outputs": [],
   "source": [
    "# Calculate the percentage passing rate for reading in each spending range\n",
    "\n",
    "\n"
   ]
  },
  {
   "cell_type": "code",
   "execution_count": null,
   "metadata": {},
   "outputs": [],
   "source": [
    "# Calculate the percentage overall passing rate in each spending range\n",
    "\n",
    "\n"
   ]
  },
  {
   "cell_type": "markdown",
   "metadata": {},
   "source": [
    "### Scores by School Size"
   ]
  },
  {
   "cell_type": "markdown",
   "metadata": {},
   "source": [
    "* Perform the same operations as above, based on school size."
   ]
  },
  {
   "cell_type": "code",
   "execution_count": null,
   "metadata": {},
   "outputs": [],
   "source": [
    "# Sample bins. Feel free to create your own bins.\n",
    "size_bins = [0, 1000, 2000, 5000]\n",
    "group_names = [\"Small (<1000)\", \"Medium (1000-2000)\", \"Large (2000-5000)\"]"
   ]
  },
  {
   "cell_type": "code",
   "execution_count": null,
   "metadata": {
    "scrolled": true
   },
   "outputs": [],
   "source": [
    "# Create a new column for the bin groups\n"
   ]
  },
  {
   "cell_type": "markdown",
   "metadata": {},
   "source": [
    "Look for the total count of test scores that pass 70% or higher\n",
    "\n",
    "\n"
   ]
  },
  {
   "cell_type": "code",
   "execution_count": null,
   "metadata": {},
   "outputs": [],
   "source": [
    "# math_pass_size\n",
    "\n",
    "\n"
   ]
  },
  {
   "cell_type": "code",
   "execution_count": null,
   "metadata": {},
   "outputs": [],
   "source": [
    "# read_pass_size\n",
    "\n",
    "\n"
   ]
  },
  {
   "cell_type": "code",
   "execution_count": null,
   "metadata": {},
   "outputs": [],
   "source": [
    "# Calculate the overall passing rate for different school size\n",
    "\n",
    "\n"
   ]
  },
  {
   "cell_type": "markdown",
   "metadata": {},
   "source": [
    "### Scores by School Type"
   ]
  },
  {
   "cell_type": "markdown",
   "metadata": {},
   "source": [
    "* Perform the same operations as above, based on school type."
   ]
  },
  {
   "cell_type": "code",
   "execution_count": null,
   "metadata": {},
   "outputs": [],
   "source": [
    "# Create bins and groups, school type {'Charter', 'District'}\n",
    "\n",
    "\n"
   ]
  },
  {
   "cell_type": "markdown",
   "metadata": {},
   "source": [
    "Find counts of the passing 70 or higher score for the both test\n"
   ]
  },
  {
   "cell_type": "code",
   "execution_count": null,
   "metadata": {},
   "outputs": [],
   "source": [
    "# math pass size\n",
    "\n",
    "\n"
   ]
  },
  {
   "cell_type": "code",
   "execution_count": null,
   "metadata": {},
   "outputs": [],
   "source": [
    "# reading pass size\n",
    "\n"
   ]
  },
  {
   "cell_type": "code",
   "execution_count": null,
   "metadata": {},
   "outputs": [],
   "source": [
    "# Calculate the overall passing rate\n",
    "\n"
   ]
  }
 ],
 "metadata": {
  "anaconda-cloud": {},
  "kernel_info": {
   "name": "python3"
  },
  "kernelspec": {
   "display_name": "Python 3 (ipykernel)",
   "language": "python",
   "name": "python3"
  },
  "language_info": {
   "codemirror_mode": {
    "name": "ipython",
    "version": 3
   },
   "file_extension": ".py",
   "mimetype": "text/x-python",
   "name": "python",
   "nbconvert_exporter": "python",
   "pygments_lexer": "ipython3",
   "version": "3.9.13"
  },
  "latex_envs": {
   "LaTeX_envs_menu_present": true,
   "autoclose": false,
   "autocomplete": true,
   "bibliofile": "biblio.bib",
   "cite_by": "apalike",
   "current_citInitial": 1,
   "eqLabelWithNumbers": true,
   "eqNumInitial": 1,
   "hotkeys": {
    "equation": "Ctrl-E",
    "itemize": "Ctrl-I"
   },
   "labels_anchors": false,
   "latex_user_defs": false,
   "report_style_numbering": false,
   "user_envs_cfg": false
  },
  "nteract": {
   "version": "0.8.4"
  },
  "toc": {
   "base_numbering": 1,
   "nav_menu": {},
   "number_sections": true,
   "sideBar": true,
   "skip_h1_title": false,
   "title_cell": "Table of Contents",
   "title_sidebar": "Contents",
   "toc_cell": false,
   "toc_position": {},
   "toc_section_display": true,
   "toc_window_display": false
  }
 },
 "nbformat": 4,
 "nbformat_minor": 1
}
