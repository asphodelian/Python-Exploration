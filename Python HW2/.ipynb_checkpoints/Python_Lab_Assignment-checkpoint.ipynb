{
 "cells": [
  {
   "cell_type": "markdown",
   "metadata": {},
   "source": [
    "# PyCity Schools Analysis\n",
    "\n",
    "* As a whole, schools with higher budgets, did not yield better test results. By contrast, schools with higher spending per student actually (\\\\$645 - 675) underperformed compared to schools with smaller budgets (\\\\$585 per student).\n",
    "\n",
    "* As a whole, smaller and medium sized schools dramatically out-performed large sized schools on passing math performances (89-91% passing vs 67%).\n",
    "\n",
    "* As a whole, charter schools out-performed the public district schools across all metrics. However, more analysis will be required to glean if the effect is due to school practices or the fact that charter schools tend to serve smaller student populations per school. \n",
    "---"
   ]
  },
  {
   "cell_type": "markdown",
   "metadata": {},
   "source": [
    "**Note:**\n",
    "Instructions have been included for each segment. You do not have to follow them exactly, but they are included to help you think through the steps."
   ]
  },
  {
   "cell_type": "code",
   "execution_count": 1,
   "metadata": {
    "ExecuteTime": {
     "end_time": "2022-08-06T06:08:31.925112Z",
     "start_time": "2022-08-06T06:08:29.337754Z"
    }
   },
   "outputs": [
    {
     "data": {
      "text/html": [
       "<div>\n",
       "<style scoped>\n",
       "    .dataframe tbody tr th:only-of-type {\n",
       "        vertical-align: middle;\n",
       "    }\n",
       "\n",
       "    .dataframe tbody tr th {\n",
       "        vertical-align: top;\n",
       "    }\n",
       "\n",
       "    .dataframe thead th {\n",
       "        text-align: right;\n",
       "    }\n",
       "</style>\n",
       "<table border=\"1\" class=\"dataframe\">\n",
       "  <thead>\n",
       "    <tr style=\"text-align: right;\">\n",
       "      <th></th>\n",
       "      <th>Student ID</th>\n",
       "      <th>student_name</th>\n",
       "      <th>gender</th>\n",
       "      <th>grade</th>\n",
       "      <th>school_name</th>\n",
       "      <th>reading_score</th>\n",
       "      <th>math_score</th>\n",
       "      <th>School ID</th>\n",
       "      <th>type</th>\n",
       "      <th>size</th>\n",
       "      <th>budget</th>\n",
       "    </tr>\n",
       "  </thead>\n",
       "  <tbody>\n",
       "    <tr>\n",
       "      <th>0</th>\n",
       "      <td>0</td>\n",
       "      <td>Paul Bradley</td>\n",
       "      <td>M</td>\n",
       "      <td>9th</td>\n",
       "      <td>Huang High School</td>\n",
       "      <td>66</td>\n",
       "      <td>79</td>\n",
       "      <td>0</td>\n",
       "      <td>District</td>\n",
       "      <td>2917</td>\n",
       "      <td>1910635</td>\n",
       "    </tr>\n",
       "    <tr>\n",
       "      <th>1</th>\n",
       "      <td>1</td>\n",
       "      <td>Victor Smith</td>\n",
       "      <td>M</td>\n",
       "      <td>12th</td>\n",
       "      <td>Huang High School</td>\n",
       "      <td>94</td>\n",
       "      <td>61</td>\n",
       "      <td>0</td>\n",
       "      <td>District</td>\n",
       "      <td>2917</td>\n",
       "      <td>1910635</td>\n",
       "    </tr>\n",
       "    <tr>\n",
       "      <th>2</th>\n",
       "      <td>2</td>\n",
       "      <td>Kevin Rodriguez</td>\n",
       "      <td>M</td>\n",
       "      <td>12th</td>\n",
       "      <td>Huang High School</td>\n",
       "      <td>90</td>\n",
       "      <td>60</td>\n",
       "      <td>0</td>\n",
       "      <td>District</td>\n",
       "      <td>2917</td>\n",
       "      <td>1910635</td>\n",
       "    </tr>\n",
       "    <tr>\n",
       "      <th>3</th>\n",
       "      <td>3</td>\n",
       "      <td>Dr. Richard Scott</td>\n",
       "      <td>M</td>\n",
       "      <td>12th</td>\n",
       "      <td>Huang High School</td>\n",
       "      <td>67</td>\n",
       "      <td>58</td>\n",
       "      <td>0</td>\n",
       "      <td>District</td>\n",
       "      <td>2917</td>\n",
       "      <td>1910635</td>\n",
       "    </tr>\n",
       "    <tr>\n",
       "      <th>4</th>\n",
       "      <td>4</td>\n",
       "      <td>Bonnie Ray</td>\n",
       "      <td>F</td>\n",
       "      <td>9th</td>\n",
       "      <td>Huang High School</td>\n",
       "      <td>97</td>\n",
       "      <td>84</td>\n",
       "      <td>0</td>\n",
       "      <td>District</td>\n",
       "      <td>2917</td>\n",
       "      <td>1910635</td>\n",
       "    </tr>\n",
       "  </tbody>\n",
       "</table>\n",
       "</div>"
      ],
      "text/plain": [
       "   Student ID       student_name gender grade        school_name  \\\n",
       "0           0       Paul Bradley      M   9th  Huang High School   \n",
       "1           1       Victor Smith      M  12th  Huang High School   \n",
       "2           2    Kevin Rodriguez      M  12th  Huang High School   \n",
       "3           3  Dr. Richard Scott      M  12th  Huang High School   \n",
       "4           4         Bonnie Ray      F   9th  Huang High School   \n",
       "\n",
       "   reading_score  math_score  School ID      type  size   budget  \n",
       "0             66          79          0  District  2917  1910635  \n",
       "1             94          61          0  District  2917  1910635  \n",
       "2             90          60          0  District  2917  1910635  \n",
       "3             67          58          0  District  2917  1910635  \n",
       "4             97          84          0  District  2917  1910635  "
      ]
     },
     "execution_count": 1,
     "metadata": {},
     "output_type": "execute_result"
    }
   ],
   "source": [
    "# Dependencies and Setup\n",
    "import pandas as pd\n",
    "import numpy as np\n",
    "\n",
    "# File to Load (Remember to Change These)\n",
    "school_data_to_load = \"data/schools_complete.csv\"\n",
    "student_data_to_load = \"data/students_complete.csv\"\n",
    "\n",
    "# Read School and Student Data File and store into Pandas Data Frames\n",
    "school_data = pd.read_csv(school_data_to_load)\n",
    "student_data = pd.read_csv(student_data_to_load)\n",
    "\n",
    "# Combine the data into a single dataset\n",
    "school_data_complete = pd.merge(student_data, school_data, how=\"left\", on=[\"school_name\", \"school_name\"])\n",
    "school_data_complete.head()\n",
    "\n",
    "#school_data_complete.count()"
   ]
  },
  {
   "cell_type": "markdown",
   "metadata": {},
   "source": [
    "## District Summary\n",
    "\n",
    "* Calculate the total number of schools\n",
    "\n",
    "* Calculate the total number of students\n",
    "\n",
    "* Calculate the total budget\n",
    "\n",
    "* Calculate the average math score \n",
    "\n",
    "* Calculate the average reading score\n",
    "\n",
    "* Calculate the overall passing rate (overall average score), i.e. (avg. math score + avg. reading score)/2\n",
    "\n",
    "* Calculate the percentage of students with a passing math score (70 or greater)\n",
    "\n",
    "* Calculate the percentage of students with a passing reading score (70 or greater)\n",
    "\n",
    "* Create a dataframe to hold the above results\n",
    "\n",
    "* Optional: give the displayed data cleaner formatting"
   ]
  },
  {
   "cell_type": "code",
   "execution_count": 10,
   "metadata": {},
   "outputs": [
    {
     "data": {
      "text/html": [
       "<div>\n",
       "<style scoped>\n",
       "    .dataframe tbody tr th:only-of-type {\n",
       "        vertical-align: middle;\n",
       "    }\n",
       "\n",
       "    .dataframe tbody tr th {\n",
       "        vertical-align: top;\n",
       "    }\n",
       "\n",
       "    .dataframe thead th {\n",
       "        text-align: right;\n",
       "    }\n",
       "</style>\n",
       "<table border=\"1\" class=\"dataframe\">\n",
       "  <thead>\n",
       "    <tr style=\"text-align: right;\">\n",
       "      <th></th>\n",
       "      <th>Student ID</th>\n",
       "      <th>reading_score</th>\n",
       "      <th>math_score</th>\n",
       "      <th>School ID</th>\n",
       "      <th>size</th>\n",
       "      <th>budget</th>\n",
       "    </tr>\n",
       "  </thead>\n",
       "  <tbody>\n",
       "    <tr>\n",
       "      <th>count</th>\n",
       "      <td>39170.000000</td>\n",
       "      <td>39170.00000</td>\n",
       "      <td>39170.000000</td>\n",
       "      <td>39170.000000</td>\n",
       "      <td>39170.000000</td>\n",
       "      <td>3.917000e+04</td>\n",
       "    </tr>\n",
       "    <tr>\n",
       "      <th>mean</th>\n",
       "      <td>19584.500000</td>\n",
       "      <td>81.87784</td>\n",
       "      <td>78.985371</td>\n",
       "      <td>6.978172</td>\n",
       "      <td>3332.957110</td>\n",
       "      <td>2.117241e+06</td>\n",
       "    </tr>\n",
       "    <tr>\n",
       "      <th>std</th>\n",
       "      <td>11307.549359</td>\n",
       "      <td>10.23958</td>\n",
       "      <td>12.309968</td>\n",
       "      <td>4.444329</td>\n",
       "      <td>1323.914069</td>\n",
       "      <td>8.749987e+05</td>\n",
       "    </tr>\n",
       "    <tr>\n",
       "      <th>min</th>\n",
       "      <td>0.000000</td>\n",
       "      <td>63.00000</td>\n",
       "      <td>55.000000</td>\n",
       "      <td>0.000000</td>\n",
       "      <td>427.000000</td>\n",
       "      <td>2.480870e+05</td>\n",
       "    </tr>\n",
       "    <tr>\n",
       "      <th>25%</th>\n",
       "      <td>9792.250000</td>\n",
       "      <td>73.00000</td>\n",
       "      <td>69.000000</td>\n",
       "      <td>3.000000</td>\n",
       "      <td>1858.000000</td>\n",
       "      <td>1.081356e+06</td>\n",
       "    </tr>\n",
       "    <tr>\n",
       "      <th>50%</th>\n",
       "      <td>19584.500000</td>\n",
       "      <td>82.00000</td>\n",
       "      <td>79.000000</td>\n",
       "      <td>7.000000</td>\n",
       "      <td>2949.000000</td>\n",
       "      <td>1.910635e+06</td>\n",
       "    </tr>\n",
       "    <tr>\n",
       "      <th>75%</th>\n",
       "      <td>29376.750000</td>\n",
       "      <td>91.00000</td>\n",
       "      <td>89.000000</td>\n",
       "      <td>11.000000</td>\n",
       "      <td>4635.000000</td>\n",
       "      <td>3.022020e+06</td>\n",
       "    </tr>\n",
       "    <tr>\n",
       "      <th>max</th>\n",
       "      <td>39169.000000</td>\n",
       "      <td>99.00000</td>\n",
       "      <td>99.000000</td>\n",
       "      <td>14.000000</td>\n",
       "      <td>4976.000000</td>\n",
       "      <td>3.124928e+06</td>\n",
       "    </tr>\n",
       "  </tbody>\n",
       "</table>\n",
       "</div>"
      ],
      "text/plain": [
       "         Student ID  reading_score    math_score     School ID          size  \\\n",
       "count  39170.000000    39170.00000  39170.000000  39170.000000  39170.000000   \n",
       "mean   19584.500000       81.87784     78.985371      6.978172   3332.957110   \n",
       "std    11307.549359       10.23958     12.309968      4.444329   1323.914069   \n",
       "min        0.000000       63.00000     55.000000      0.000000    427.000000   \n",
       "25%     9792.250000       73.00000     69.000000      3.000000   1858.000000   \n",
       "50%    19584.500000       82.00000     79.000000      7.000000   2949.000000   \n",
       "75%    29376.750000       91.00000     89.000000     11.000000   4635.000000   \n",
       "max    39169.000000       99.00000     99.000000     14.000000   4976.000000   \n",
       "\n",
       "             budget  \n",
       "count  3.917000e+04  \n",
       "mean   2.117241e+06  \n",
       "std    8.749987e+05  \n",
       "min    2.480870e+05  \n",
       "25%    1.081356e+06  \n",
       "50%    1.910635e+06  \n",
       "75%    3.022020e+06  \n",
       "max    3.124928e+06  "
      ]
     },
     "execution_count": 10,
     "metadata": {},
     "output_type": "execute_result"
    }
   ],
   "source": [
    "# Create a District Summary\n",
    "comp_school = school_data_complete\n",
    "comp_school.describe()"
   ]
  },
  {
   "cell_type": "code",
   "execution_count": 11,
   "metadata": {},
   "outputs": [
    {
     "data": {
      "text/plain": [
       "Index(['Student ID', 'student_name', 'gender', 'grade', 'school_name',\n",
       "       'reading_score', 'math_score', 'School ID', 'type', 'size', 'budget'],\n",
       "      dtype='object')"
      ]
     },
     "execution_count": 11,
     "metadata": {},
     "output_type": "execute_result"
    }
   ],
   "source": [
    "comp_school.keys()"
   ]
  },
  {
   "cell_type": "code",
   "execution_count": 12,
   "metadata": {},
   "outputs": [
    {
     "name": "stdout",
     "output_type": "stream",
     "text": [
      "Total number of schools: 15\n"
     ]
    }
   ],
   "source": [
    "# Total number of schools\n",
    "comp_school['school_name'].value_counts()\n",
    "print(\"Total number of schools: 15\")"
   ]
  },
  {
   "cell_type": "code",
   "execution_count": 13,
   "metadata": {},
   "outputs": [
    {
     "name": "stdout",
     "output_type": "stream",
     "text": [
      "Total number of students: 39170\n"
     ]
    }
   ],
   "source": [
    "# Total number of students\n",
    "comp_school['gender'].value_counts()\n",
    "student_sum = 19735 + 19435\n",
    "print(\"Total number of students: \" + str(student_sum))"
   ]
  },
  {
   "cell_type": "code",
   "execution_count": 14,
   "metadata": {},
   "outputs": [
    {
     "name": "stdout",
     "output_type": "stream",
     "text": [
      "Total budget: 82932329558\n"
     ]
    }
   ],
   "source": [
    "# Total budget\n",
    "tot_budget = comp_school['budget'].sum()\n",
    "print(\"Total budget: \" + str(tot_budget))"
   ]
  },
  {
   "cell_type": "code",
   "execution_count": 15,
   "metadata": {},
   "outputs": [
    {
     "name": "stdout",
     "output_type": "stream",
     "text": [
      "Average math score: 78.98537145774827\n"
     ]
    }
   ],
   "source": [
    "# Average math score\n",
    "math_avg = comp_school['math_score'].mean()\n",
    "print(\"Average math score: \" + str(math_avg))"
   ]
  },
  {
   "cell_type": "code",
   "execution_count": 16,
   "metadata": {},
   "outputs": [
    {
     "name": "stdout",
     "output_type": "stream",
     "text": [
      "Average reading score: 81.87784018381414\n"
     ]
    }
   ],
   "source": [
    "# Average reading score\n",
    "read_avg = comp_school['reading_score'].mean()\n",
    "print(\"Average reading score: \" + str(read_avg))"
   ]
  },
  {
   "cell_type": "code",
   "execution_count": 17,
   "metadata": {},
   "outputs": [
    {
     "name": "stdout",
     "output_type": "stream",
     "text": [
      "Overall average score: 80.43160582078121\n"
     ]
    }
   ],
   "source": [
    "# Overall average score\n",
    "math = comp_school['math_score'].mean()\n",
    "read = comp_school['reading_score'].mean()\n",
    "overall_avg = (math + read)/2\n",
    "print(\"Overall average score: \" + str(overall_avg))"
   ]
  },
  {
   "cell_type": "code",
   "execution_count": 18,
   "metadata": {},
   "outputs": [
    {
     "name": "stdout",
     "output_type": "stream",
     "text": [
      "The percentage of passing math with a 70 or higher is 74.9808526933878\n"
     ]
    }
   ],
   "source": [
    "# Percentage of passing math (70 or greater)\n",
    "comp_school[(comp_school)['math_score'] >= 70]\n",
    "mpercent_pass = (29370/student_sum)*100\n",
    "print(\"The percentage of passing math with a 70 or higher is \" + str(mpercent_pass))"
   ]
  },
  {
   "cell_type": "code",
   "execution_count": 19,
   "metadata": {},
   "outputs": [
    {
     "name": "stdout",
     "output_type": "stream",
     "text": [
      "The percentage of passing reading with a 70 or higher is 85.80546336482001\n"
     ]
    }
   ],
   "source": [
    "# Percentage of passing reading (70 or greater)\n",
    "comp_school[(comp_school)['reading_score'] >= 70]\n",
    "rpercent_pass = (33610/student_sum)*100\n",
    "print(\"The percentage of passing reading with a 70 or higher is \" + str(rpercent_pass))"
   ]
  },
  {
   "cell_type": "code",
   "execution_count": 20,
   "metadata": {},
   "outputs": [
    {
     "data": {
      "text/html": [
       "<div>\n",
       "<style scoped>\n",
       "    .dataframe tbody tr th:only-of-type {\n",
       "        vertical-align: middle;\n",
       "    }\n",
       "\n",
       "    .dataframe tbody tr th {\n",
       "        vertical-align: top;\n",
       "    }\n",
       "\n",
       "    .dataframe thead th {\n",
       "        text-align: right;\n",
       "    }\n",
       "</style>\n",
       "<table border=\"1\" class=\"dataframe\">\n",
       "  <thead>\n",
       "    <tr style=\"text-align: right;\">\n",
       "      <th></th>\n",
       "      <th>Item</th>\n",
       "      <th>Value</th>\n",
       "    </tr>\n",
       "  </thead>\n",
       "  <tbody>\n",
       "    <tr>\n",
       "      <th>0</th>\n",
       "      <td>Number of Schools</td>\n",
       "      <td>1.500000e+01</td>\n",
       "    </tr>\n",
       "    <tr>\n",
       "      <th>1</th>\n",
       "      <td>Number of Students</td>\n",
       "      <td>3.917000e+04</td>\n",
       "    </tr>\n",
       "    <tr>\n",
       "      <th>2</th>\n",
       "      <td>Total Budget</td>\n",
       "      <td>8.293233e+10</td>\n",
       "    </tr>\n",
       "    <tr>\n",
       "      <th>3</th>\n",
       "      <td>Math Average</td>\n",
       "      <td>7.898537e+01</td>\n",
       "    </tr>\n",
       "    <tr>\n",
       "      <th>4</th>\n",
       "      <td>Reading Average</td>\n",
       "      <td>8.187800e+01</td>\n",
       "    </tr>\n",
       "    <tr>\n",
       "      <th>5</th>\n",
       "      <td>Overall Average</td>\n",
       "      <td>8.043200e+01</td>\n",
       "    </tr>\n",
       "    <tr>\n",
       "      <th>6</th>\n",
       "      <td>Math Passing %</td>\n",
       "      <td>7.498085e+01</td>\n",
       "    </tr>\n",
       "    <tr>\n",
       "      <th>7</th>\n",
       "      <td>Reading Passing %</td>\n",
       "      <td>8.580546e+01</td>\n",
       "    </tr>\n",
       "  </tbody>\n",
       "</table>\n",
       "</div>"
      ],
      "text/plain": [
       "                 Item         Value\n",
       "0   Number of Schools  1.500000e+01\n",
       "1  Number of Students  3.917000e+04\n",
       "2        Total Budget  8.293233e+10\n",
       "3        Math Average  7.898537e+01\n",
       "4     Reading Average  8.187800e+01\n",
       "5     Overall Average  8.043200e+01\n",
       "6      Math Passing %  7.498085e+01\n",
       "7   Reading Passing %  8.580546e+01"
      ]
     },
     "execution_count": 20,
     "metadata": {},
     "output_type": "execute_result"
    }
   ],
   "source": [
    "district = [['Number of Schools',15],\n",
    "        ['Number of Students',39170],\n",
    "        ['Total Budget',82932329558],\n",
    "        ['Math Average',78.98537145774827],\n",
    "        ['Reading Average',81.878],\n",
    "        ['Overall Average',80.432],\n",
    "        ['Math Passing %',74.9808526933878],\n",
    "        ['Reading Passing %',85.80546336482001]]\n",
    "district_summary = pd.DataFrame(district, columns = ['Item','Value'])\n",
    "district_summary"
   ]
  },
  {
   "cell_type": "markdown",
   "metadata": {},
   "source": [
    "## School Summary"
   ]
  },
  {
   "cell_type": "markdown",
   "metadata": {},
   "source": [
    "* Create an overview table that summarizes key metrics about each school, including:\n",
    "  * School Name\n",
    "  * School Type\n",
    "  * Total Students\n",
    "  * Total School Budget\n",
    "  * Per Student Budget\n",
    "  * Average Math Score\n",
    "  * Average Reading Score\n",
    "  * % Passing Math\n",
    "  * % Passing Reading\n",
    "  * Overall Passing Rate (Average of the above two)\n",
    "  \n",
    "* Create a dataframe to hold the above results"
   ]
  },
  {
   "cell_type": "markdown",
   "metadata": {},
   "source": [
    "### Top Performing Schools (By Passing Rate)"
   ]
  },
  {
   "cell_type": "markdown",
   "metadata": {},
   "source": [
    "* Sort and display the top five schools in overall passing rate"
   ]
  },
  {
   "cell_type": "code",
   "execution_count": 21,
   "metadata": {},
   "outputs": [
    {
     "data": {
      "text/plain": [
       "Bailey High School       4976\n",
       "Johnson High School      4761\n",
       "Hernandez High School    4635\n",
       "Rodriguez High School    3999\n",
       "Figueroa High School     2949\n",
       "Huang High School        2917\n",
       "Ford High School         2739\n",
       "Wilson High School       2283\n",
       "Cabrera High School      1858\n",
       "Wright High School       1800\n",
       "Shelton High School      1761\n",
       "Thomas High School       1635\n",
       "Griffin High School      1468\n",
       "Pena High School          962\n",
       "Holden High School        427\n",
       "Name: school_name, dtype: int64"
      ]
     },
     "execution_count": 21,
     "metadata": {},
     "output_type": "execute_result"
    }
   ],
   "source": [
    "#  Sort and display the top five schools in overall passing rate\n",
    "school_performance = pd.DataFrame()\n",
    "school_performance['High School'] = ['Bailey', 'Johnson', 'Hernandez', 'Rodriguez', 'Figueroa', \n",
    "                                     'Huang', 'Ford', 'Wilson', 'Cabrera', 'Wright', 'Shelton', \n",
    "                                     'Thomas', 'Griffin', 'Pena', 'Holden']\n",
    "comp_school['school_name'].value_counts()"
   ]
  },
  {
   "cell_type": "code",
   "execution_count": 22,
   "metadata": {
    "scrolled": true
   },
   "outputs": [],
   "source": [
    "# Calculate total school budget\n",
    "\n",
    "# Bailey High School\n",
    "bail = comp_school[(comp_school['school_name'] == \"Bailey High School\")]\n",
    "# Johnson High School\n",
    "john = comp_school[(comp_school['school_name'] == \"Johnson High School\")]\n",
    "# Hernandez High School\n",
    "hern = comp_school[(comp_school['school_name'] == \"Hernandez High School\")]\n",
    "# Rodriguez High School\n",
    "rod = comp_school[(comp_school['school_name'] == \"Rodriguez High School\")]\n",
    "# Figueroa High School\n",
    "fig = comp_school[(comp_school['school_name'] == \"Figueroa High School\")]\n",
    "# Huang High School\n",
    "hua = comp_school[(comp_school['school_name'] == \"Huang High School\")]\n",
    "# Ford High School\n",
    "ford = comp_school[(comp_school['school_name'] == \"Ford High School\")]\n",
    "# Wilson High School\n",
    "wil = comp_school[(comp_school['school_name'] == \"Wilson High School\")]\n",
    "# Cabrera High School\n",
    "cab = comp_school[(comp_school['school_name'] == \"Cabrera High School\")]\n",
    "# Wright High School\n",
    "wri = comp_school[(comp_school['school_name'] == \"Wright High School\")]\n",
    "# Shelton High School\n",
    "she = comp_school[(comp_school['school_name'] == \"Shelton High School\")]\n",
    "# Thomas High School\n",
    "tho = comp_school[(comp_school['school_name'] == \"Thomas High School\")]\n",
    "# Griffin High School\n",
    "grif = comp_school[(comp_school['school_name'] == \"Griffin High School\")]\n",
    "# Pena High School\n",
    "pen = comp_school[(comp_school['school_name'] == \"Pena High School\")]\n",
    "# Holden High School\n",
    "hold = comp_school[(comp_school['school_name'] == \"Holden High School\")]"
   ]
  },
  {
   "cell_type": "code",
   "execution_count": 23,
   "metadata": {},
   "outputs": [],
   "source": [
    "# Calculate per student budget\n",
    "\n",
    "# Bailey High School\n",
    "bailhs_tot = 4976\n",
    "bail_budgesum = bail['budget'].sum()\n",
    "bail_budget = bail_budgesum/bailhs_tot\n",
    "\n",
    "# Johnson High School\n",
    "johnhs_tot = 4761\n",
    "john_budgesum = john['budget'].sum()\n",
    "john_budget = john_budgesum/johnhs_tot\n",
    "\n",
    "# Hernandez High School\n",
    "hernhs_tot = 4635\n",
    "hern_budgesum = hern['budget'].sum()\n",
    "hern_budget = hern_budgesum/hernhs_tot\n",
    "\n",
    "# Rodriguez High School\n",
    "rodhs_tot = 3999\n",
    "rod_budgesum = rod['budget'].sum()\n",
    "rod_budget = rod_budgesum/rodhs_tot\n",
    "\n",
    "# Figueroa High School\n",
    "fighs_tot = 2949\n",
    "fig_budgesum = fig['budget'].sum()\n",
    "fig_budget = fig_budgesum/fighs_tot\n",
    "\n",
    "# Huang High School\n",
    "huahs_tot = 2917 \n",
    "hua_budgesum = hua['budget'].sum()\n",
    "hua_budget = hua_budgesum/huahs_tot\n",
    "\n",
    "# Ford High School\n",
    "fordhs_tot = 2739\n",
    "ford_budgesum = ford['budget'].sum()\n",
    "ford_budget = ford_budgesum/fordhs_tot\n",
    "\n",
    "# Wilson High School\n",
    "wilhs_tot = 2283\n",
    "wil_budgesum = wil['budget'].sum()\n",
    "wil_budget = wil_budgesum/wilhs_tot\n",
    "\n",
    "# Cabrera High School\n",
    "cabhs_tot = 1858\n",
    "cab_budgesum = cab['budget'].sum()\n",
    "cab_budget = cab_budgesum/cabhs_tot\n",
    "\n",
    "# Wright High School\n",
    "wrihs_tot = 1800\n",
    "wri_budgesum = wri['budget'].sum()\n",
    "wri_budget = wri_budgesum/wrihs_tot\n",
    "\n",
    "# Shelton High School\n",
    "shehs_tot = 1761\n",
    "she_budgesum = she['budget'].sum()\n",
    "she_budget = she_budgesum/shehs_tot\n",
    "\n",
    "# Thomas High School\n",
    "thohs_tot = 1635\n",
    "tho_budgesum = tho['budget'].sum()\n",
    "tho_budget = tho_budgesum/thohs_tot\n",
    "\n",
    "# Griffin High School\n",
    "grifhs_tot = 1468\n",
    "grif_budgesum = grif['budget'].sum()\n",
    "grif_budget = grif_budgesum/grifhs_tot\n",
    "\n",
    "# Pena High School\n",
    "penhs_tot = 962\n",
    "pen_budgesum = pen['budget'].sum()\n",
    "pen_budget = pen_budgesum/penhs_tot\n",
    "\n",
    "# Holden High School\n",
    "holdhs_tot = 427\n",
    "hold_budgesum = hold['budget'].sum()\n",
    "hold_budget = hold_budgesum/holdhs_tot\n",
    "\n",
    "# Column Add\n",
    "school_performance['Budget/Student'] = [bail_budget,john_budget,hern_budget,rod_budget,fig_budget,\n",
    "                                        hua_budget,ford_budget,wil_budget,cab_budget,wri_budget,\n",
    "                                        she_budget,tho_budget,grif_budget,pen_budget,hold_budget]"
   ]
  },
  {
   "cell_type": "code",
   "execution_count": 24,
   "metadata": {},
   "outputs": [],
   "source": [
    "# Cacluate the avg math and reading score\n",
    "\n",
    "# Bailey High School\n",
    "bail_math_sum = bail['math_score'].sum()\n",
    "bail_read_sum = bail['reading_score'].sum()\n",
    "bail_mavg = bail_math_sum/bailhs_tot\n",
    "bail_ravg = bail_read_sum/bailhs_tot\n",
    "\n",
    "# Johnson High School\n",
    "john_math_sum = john['math_score'].sum()\n",
    "john_read_sum = john['reading_score'].sum()\n",
    "john_mavg = john_math_sum/johnhs_tot\n",
    "john_ravg = john_read_sum/johnhs_tot\n",
    "\n",
    "# Hernandez High School\n",
    "hern_math_sum = hern['math_score'].sum()\n",
    "hern_read_sum = hern['reading_score'].sum()\n",
    "hern_mavg = hern_math_sum/hernhs_tot\n",
    "hern_ravg = hern_read_sum/hernhs_tot\n",
    "\n",
    "# Rodriguez High School\n",
    "rod_math_sum = rod['math_score'].sum()\n",
    "rod_read_sum = rod['reading_score'].sum()\n",
    "rod_mavg = rod_math_sum/rodhs_tot\n",
    "rod_ravg = rod_read_sum/rodhs_tot\n",
    "\n",
    "# Figueroa High School\n",
    "fig_math_sum = fig['math_score'].sum()\n",
    "fig_read_sum = fig['reading_score'].sum()\n",
    "fig_mavg = fig_math_sum/fighs_tot\n",
    "fig_ravg = fig_read_sum/fighs_tot\n",
    "\n",
    "# Huang High School\n",
    "hua_math_sum = hua['math_score'].sum()\n",
    "hua_read_sum = hua['reading_score'].sum() \n",
    "hua_mavg = hua_math_sum/huahs_tot\n",
    "hua_ravg = hua_read_sum/huahs_tot\n",
    "\n",
    "# Ford High School\n",
    "ford_math_sum = ford['math_score'].sum()\n",
    "ford_read_sum = ford['reading_score'].sum()\n",
    "ford_mavg = ford_math_sum/fordhs_tot\n",
    "ford_ravg = ford_read_sum/fordhs_tot\n",
    "\n",
    "# Wilson High School\n",
    "wil_math_sum = wil['math_score'].sum()\n",
    "wil_read_sum = wil['reading_score'].sum()\n",
    "wil_mavg = wil_math_sum/wilhs_tot\n",
    "wil_ravg = wil_read_sum/wilhs_tot\n",
    "\n",
    "# Cabrera High School\n",
    "cab_math_sum = cab['math_score'].sum()\n",
    "cab_read_sum = cab['reading_score'].sum()\n",
    "cab_mavg = cab_math_sum/cabhs_tot\n",
    "cab_ravg = cab_read_sum/cabhs_tot\n",
    "\n",
    "# Wright High School\n",
    "wri_math_sum = wri['math_score'].sum()\n",
    "wri_read_sum = wri['reading_score'].sum()\n",
    "wri_mavg = wri_math_sum/wrihs_tot\n",
    "wri_ravg = wri_read_sum/wrihs_tot\n",
    "\n",
    "# Shelton High School\n",
    "she_math_sum = she['math_score'].sum()\n",
    "she_read_sum = she['reading_score'].sum()\n",
    "she_mavg = she_math_sum/shehs_tot\n",
    "she_ravg = she_read_sum/shehs_tot\n",
    "\n",
    "# Thomas High School\n",
    "tho_math_sum = tho['math_score'].sum()\n",
    "tho_read_sum = tho['reading_score'].sum()\n",
    "tho_mavg = tho_math_sum/thohs_tot\n",
    "tho_ravg = tho_read_sum/thohs_tot\n",
    "\n",
    "# Griffin High School\n",
    "grif_math_sum = grif['math_score'].sum()\n",
    "grif_read_sum = grif['reading_score'].sum()\n",
    "grif_mavg = grif_math_sum/grifhs_tot\n",
    "grif_ravg = grif_read_sum/grifhs_tot\n",
    "\n",
    "# Pena High School\n",
    "pen_math_sum = pen['math_score'].sum()\n",
    "pen_read_sum = pen['reading_score'].sum()\n",
    "pen_mavg = pen_math_sum/penhs_tot\n",
    "pen_ravg = pen_read_sum/penhs_tot\n",
    "\n",
    "# Holden High School\n",
    "hold_math_sum = hold['math_score'].sum()\n",
    "hold_read_sum = hold['reading_score'].sum()\n",
    "hold_mavg = hold_math_sum/holdhs_tot\n",
    "hold_ravg = hold_read_sum/holdhs_tot\n",
    "\n",
    "# Column Add\n",
    "school_performance['Math Average'] = [bail_mavg,john_mavg,hern_mavg,rod_mavg,fig_mavg,\n",
    "                                      hua_mavg,ford_mavg,wil_mavg,cab_mavg,wri_mavg,\n",
    "                                      she_mavg,tho_mavg,grif_mavg,pen_mavg,hold_mavg,]\n",
    "\n",
    "school_performance['Reading Average'] = [bail_ravg,john_ravg,hern_ravg,rod_ravg,fig_ravg,\n",
    "                                      hua_ravg,ford_ravg,wil_ravg,cab_ravg,wri_ravg,\n",
    "                                      she_ravg,tho_ravg,grif_ravg,pen_ravg,hold_ravg,]\n"
   ]
  },
  {
   "cell_type": "markdown",
   "metadata": {},
   "source": [
    "#### Find the passing rate for math and reading (above 70 points)"
   ]
  },
  {
   "cell_type": "code",
   "execution_count": 25,
   "metadata": {},
   "outputs": [],
   "source": [
    "# Find the total counts of math result\n",
    "# Find the counts for math result in each school that pass 70 or higher\n",
    "\n",
    "# Bailey High School\n",
    "bail_mpass_tot = len(bail[(bail)['math_score'] >= 70])\n",
    "# Johnson High School\n",
    "john_mpass_tot = len(john[(john)['math_score'] >= 70])\n",
    "# Hernandez High School\n",
    "hern_mpass_tot = len(hern[(hern)['math_score'] >= 70])\n",
    "# Rodriguez High School\n",
    "rod_mpass_tot = len(rod[(rod)['math_score'] >= 70])\n",
    "# Figueroa High School\n",
    "fig_mpass_tot = len(fig[(fig)['math_score'] >= 70])\n",
    "# Huang High School\n",
    "hua_mpass_tot = len(hua[(hua)['math_score'] >= 70])\n",
    "# Ford High School\n",
    "ford_mpass_tot = len(ford[(ford)['math_score'] >= 70])\n",
    "# Wilson High School\n",
    "wil_mpass_tot = len(wil[(wil)['math_score'] >= 70])\n",
    "# Cabrera High School\n",
    "cab_mpass_tot = len(cab[(cab)['math_score'] >= 70])\n",
    "# Wright High School\n",
    "wri_mpass_tot = len(wri[(wri)['math_score'] >= 70])\n",
    "# Shelton High School\n",
    "she_mpass_tot = len(she[(she)['math_score'] >= 70])\n",
    "# Thomas High School\n",
    "tho_mpass_tot = len(tho[(tho)['math_score'] >= 70])\n",
    "# Griffin High School\n",
    "grif_mpass_tot = len(grif[(grif)['math_score'] >= 70])\n",
    "# Pena High School\n",
    "pen_mpass_tot = len(pen[(pen)['math_score'] >= 70])\n",
    "# Holden High School\n",
    "hold_mpass_tot = len(hold[(hold)['math_score'] >= 70])\n",
    "\n",
    "# Calculate the math passing rate\n",
    "\n",
    "# Bailey High School\n",
    "bail_mp = (bail_mpass_tot/bailhs_tot)*100\n",
    "# Johnson High School\n",
    "john_mp = (john_mpass_tot/johnhs_tot)*100\n",
    "# Hernandez High School\n",
    "hern_mp = (hern_mpass_tot/hernhs_tot)*100\n",
    "# Rodriguez High School\n",
    "rod_mp = (rod_mpass_tot/rodhs_tot)*100\n",
    "# Figueroa High School\n",
    "fig_mp = (fig_mpass_tot/fighs_tot)*100\n",
    "# Huang High School\n",
    "hua_mp = (hua_mpass_tot/huahs_tot)*100\n",
    "# Ford High School\n",
    "ford_mp = (ford_mpass_tot/fordhs_tot)*100\n",
    "# Wilson High School\n",
    "wil_mp = (wil_mpass_tot/wilhs_tot)*100\n",
    "# Cabrera High School\n",
    "cab_mp = (cab_mpass_tot/cabhs_tot)*100\n",
    "# Wright High School\n",
    "wri_mp = (wri_mpass_tot/wrihs_tot)*100\n",
    "# Shelton High School\n",
    "she_mp = (she_mpass_tot/shehs_tot)*100\n",
    "# Thomas High School\n",
    "tho_mp = (tho_mpass_tot/thohs_tot)*100\n",
    "# Griffin High School\n",
    "grif_mp = (grif_mpass_tot/grifhs_tot)*100\n",
    "# Pena High School\n",
    "pen_mp = (pen_mpass_tot/penhs_tot)*100\n",
    "# Holden High School\n",
    "hold_mp = (hold_mpass_tot/holdhs_tot)*100\n",
    "\n",
    "# Column Add\n",
    "school_performance['Math Pass Rate'] = [bail_mp,john_mp,hern_mp,rod_mp,fig_mp,\n",
    "                                        hua_mp,ford_mp,wil_mp,cab_mp,wri_mp,\n",
    "                                        she_mp,tho_mp,grif_mp,pen_mp,hold_mp]"
   ]
  },
  {
   "cell_type": "code",
   "execution_count": 26,
   "metadata": {},
   "outputs": [],
   "source": [
    "# Find the total counts of read result\n",
    "# Find the counts for read result in each school that pass 70 or higher\n",
    "\n",
    "# Bailey\n",
    "bail_rpass_tot = len(bail[(bail)['reading_score'] >= 70])\n",
    "# Johnson High School\n",
    "john_rpass_tot = len(john[(john)['reading_score'] >= 70])\n",
    "# Hernandez High School\n",
    "hern_rpass_tot = len(hern[(hern)['reading_score'] >= 70])\n",
    "# Rodriguez High School\n",
    "rod_rpass_tot = len(rod[(rod)['reading_score'] >= 70])\n",
    "# Figueroa High School\n",
    "fig_rpass_tot = len(fig[(fig)['reading_score'] >= 70])\n",
    "# Huang High School\n",
    "hua_rpass_tot = len(hua[(hua)['reading_score'] >= 70])\n",
    "# Ford High School\n",
    "ford_rpass_tot = len(ford[(ford)['reading_score'] >= 70])\n",
    "# Wilson High School\n",
    "wil_rpass_tot = len(wil[(wil)['reading_score'] >= 70])\n",
    "# Cabrera High School\n",
    "cab_rpass_tot = len(cab[(cab)['reading_score'] >= 70])\n",
    "# Wright High School\n",
    "wri_rpass_tot = len(wri[(wri)['reading_score'] >= 70])\n",
    "# Shelton High School\n",
    "she_rpass_tot = len(she[(she)['reading_score'] >= 70])\n",
    "# Thomas High School\n",
    "tho_rpass_tot = len(tho[(tho)['reading_score'] >= 70])\n",
    "# Griffin High School\n",
    "grif_rpass_tot = len(grif[(grif)['reading_score'] >= 70])\n",
    "# Pena High School\n",
    "pen_rpass_tot = len(pen[(pen)['reading_score'] >= 70])\n",
    "# Holden High School\n",
    "hold_rpass_tot = len(hold[(hold)['reading_score'] >= 70])\n",
    "\n",
    "# Calculate the read passing rate\n",
    "\n",
    "# Bailey High School\n",
    "bail_rp = (bail_rpass_tot/bailhs_tot)*100\n",
    "# Johnson High School\n",
    "john_rp = (john_rpass_tot/johnhs_tot)*100\n",
    "# Hernandez High School\n",
    "hern_rp = (hern_rpass_tot/hernhs_tot)*100\n",
    "# Rodriguez High School\n",
    "rod_rp = (rod_rpass_tot/rodhs_tot)*100\n",
    "# Figueroa High School\n",
    "fig_rp = (fig_rpass_tot/fighs_tot)*100\n",
    "# Huang High School\n",
    "hua_rp = (hua_rpass_tot/huahs_tot)*100\n",
    "# Ford High School\n",
    "ford_rp = (ford_rpass_tot/fordhs_tot)*100\n",
    "# Wilson High School\n",
    "wil_rp = (wil_rpass_tot/wilhs_tot)*100\n",
    "# Cabrera High School\n",
    "cab_rp = (cab_rpass_tot/cabhs_tot)*100\n",
    "# Wright High School\n",
    "wri_rp = (wri_rpass_tot/wrihs_tot)*100\n",
    "# Shelton High School\n",
    "she_rp = (she_rpass_tot/shehs_tot)*100\n",
    "# Thomas High School\n",
    "tho_rp = (tho_rpass_tot/thohs_tot)*100\n",
    "# Griffin High School\n",
    "grif_rp = (grif_rpass_tot/grifhs_tot)*100\n",
    "# Pena High School\n",
    "pen_rp = (pen_rpass_tot/penhs_tot)*100\n",
    "# Holden High School\n",
    "hold_rp = (hold_rpass_tot/holdhs_tot)*100\n",
    "\n",
    "# Column Add\n",
    "school_performance['Reading Passing Rate'] = [bail_rp,john_rp,hern_rp,rod_rp,fig_rp,\n",
    "                                              hua_rp,ford_rp,wil_rp,cab_rp,wri_rp,\n",
    "                                              she_rp,tho_rp,grif_rp,pen_rp,hold_rp]"
   ]
  },
  {
   "cell_type": "code",
   "execution_count": 27,
   "metadata": {},
   "outputs": [],
   "source": [
    "# Calculate the overall passing rate (average of the math and reading passing rate)\n",
    "\n",
    "# Bailey\n",
    "bail_overall = (bail_mp + bail_rp)/2\n",
    "# Johnson\n",
    "john_overall = (john_mp + john_rp)/2\n",
    "# Hernandez\n",
    "hern_overall = (hern_mp + hern_rp)/2\n",
    "# Rodriguez\n",
    "rod_overall = (rod_mp + rod_rp)/2\n",
    "# Figueroa\n",
    "fig_overall = (fig_mp + fig_rp)/2\n",
    "# Huang High School\n",
    "hua_overall = (hua_mp + hua_rp)/2\n",
    "# Ford High School\n",
    "ford_overall = (ford_mp + ford_rp)/2\n",
    "# Wilson High School\n",
    "wil_overall = (wil_mp + wil_rp)/2\n",
    "# Cabrera High School\n",
    "cab_overall = (cab_mp + cab_rp)/2\n",
    "# Wright High School\n",
    "wri_overall = (wri_mp + wri_rp)/2\n",
    "# Shelton High School\n",
    "she_overall = (she_mp + she_rp)/2\n",
    "# Thomas High School\n",
    "tho_overall = (tho_mp + tho_rp)/2\n",
    "# Griffin High School\n",
    "grif_overall = (grif_mp + grif_rp)/2\n",
    "# Pena High School\n",
    "pen_overall = (pen_mp + pen_rp)/2\n",
    "# Holden High School\n",
    "hold_overall = (hold_mp + hold_rp)/2\n",
    "\n",
    "# Column Add\n",
    "school_performance['Overall Passing Rate'] = [bail_overall,john_overall,hern_overall,rod_overall,\n",
    "                                              fig_overall,hua_overall,ford_overall,wil_overall,\n",
    "                                              cab_overall,wri_overall,she_overall,tho_overall,\n",
    "                                              grif_overall,pen_overall,hold_overall]"
   ]
  },
  {
   "cell_type": "code",
   "execution_count": 28,
   "metadata": {},
   "outputs": [
    {
     "data": {
      "text/html": [
       "<div>\n",
       "<style scoped>\n",
       "    .dataframe tbody tr th:only-of-type {\n",
       "        vertical-align: middle;\n",
       "    }\n",
       "\n",
       "    .dataframe tbody tr th {\n",
       "        vertical-align: top;\n",
       "    }\n",
       "\n",
       "    .dataframe thead th {\n",
       "        text-align: right;\n",
       "    }\n",
       "</style>\n",
       "<table border=\"1\" class=\"dataframe\">\n",
       "  <thead>\n",
       "    <tr style=\"text-align: right;\">\n",
       "      <th></th>\n",
       "      <th>High School</th>\n",
       "      <th>Budget/Student</th>\n",
       "      <th>Math Average</th>\n",
       "      <th>Reading Average</th>\n",
       "      <th>Math Pass Rate</th>\n",
       "      <th>Reading Passing Rate</th>\n",
       "      <th>Overall Passing Rate</th>\n",
       "    </tr>\n",
       "  </thead>\n",
       "  <tbody>\n",
       "    <tr>\n",
       "      <th>8</th>\n",
       "      <td>Cabrera</td>\n",
       "      <td>1081356.0</td>\n",
       "      <td>83.061895</td>\n",
       "      <td>83.975780</td>\n",
       "      <td>94.133477</td>\n",
       "      <td>97.039828</td>\n",
       "      <td>95.586652</td>\n",
       "    </tr>\n",
       "    <tr>\n",
       "      <th>11</th>\n",
       "      <td>Thomas</td>\n",
       "      <td>1043130.0</td>\n",
       "      <td>83.418349</td>\n",
       "      <td>83.848930</td>\n",
       "      <td>93.272171</td>\n",
       "      <td>97.308869</td>\n",
       "      <td>95.290520</td>\n",
       "    </tr>\n",
       "    <tr>\n",
       "      <th>13</th>\n",
       "      <td>Pena</td>\n",
       "      <td>585858.0</td>\n",
       "      <td>83.839917</td>\n",
       "      <td>84.044699</td>\n",
       "      <td>94.594595</td>\n",
       "      <td>95.945946</td>\n",
       "      <td>95.270270</td>\n",
       "    </tr>\n",
       "    <tr>\n",
       "      <th>12</th>\n",
       "      <td>Griffin</td>\n",
       "      <td>917500.0</td>\n",
       "      <td>83.351499</td>\n",
       "      <td>83.816757</td>\n",
       "      <td>93.392371</td>\n",
       "      <td>97.138965</td>\n",
       "      <td>95.265668</td>\n",
       "    </tr>\n",
       "    <tr>\n",
       "      <th>7</th>\n",
       "      <td>Wilson</td>\n",
       "      <td>1319574.0</td>\n",
       "      <td>83.274201</td>\n",
       "      <td>83.989488</td>\n",
       "      <td>93.867718</td>\n",
       "      <td>96.539641</td>\n",
       "      <td>95.203679</td>\n",
       "    </tr>\n",
       "  </tbody>\n",
       "</table>\n",
       "</div>"
      ],
      "text/plain": [
       "   High School  Budget/Student  Math Average  Reading Average  Math Pass Rate  \\\n",
       "8      Cabrera       1081356.0     83.061895        83.975780       94.133477   \n",
       "11      Thomas       1043130.0     83.418349        83.848930       93.272171   \n",
       "13        Pena        585858.0     83.839917        84.044699       94.594595   \n",
       "12     Griffin        917500.0     83.351499        83.816757       93.392371   \n",
       "7       Wilson       1319574.0     83.274201        83.989488       93.867718   \n",
       "\n",
       "    Reading Passing Rate  Overall Passing Rate  \n",
       "8              97.039828             95.586652  \n",
       "11             97.308869             95.290520  \n",
       "13             95.945946             95.270270  \n",
       "12             97.138965             95.265668  \n",
       "7              96.539641             95.203679  "
      ]
     },
     "execution_count": 28,
     "metadata": {},
     "output_type": "execute_result"
    }
   ],
   "source": [
    "school_performance.sort_values(by = \"Overall Passing Rate\", ascending = False).head()"
   ]
  },
  {
   "cell_type": "markdown",
   "metadata": {},
   "source": [
    "### Bottom Performing Schools (By Passing Rate)"
   ]
  },
  {
   "cell_type": "markdown",
   "metadata": {},
   "source": [
    "* Sort and display the five worst-performing schools"
   ]
  },
  {
   "cell_type": "code",
   "execution_count": 29,
   "metadata": {},
   "outputs": [
    {
     "data": {
      "text/html": [
       "<div>\n",
       "<style scoped>\n",
       "    .dataframe tbody tr th:only-of-type {\n",
       "        vertical-align: middle;\n",
       "    }\n",
       "\n",
       "    .dataframe tbody tr th {\n",
       "        vertical-align: top;\n",
       "    }\n",
       "\n",
       "    .dataframe thead th {\n",
       "        text-align: right;\n",
       "    }\n",
       "</style>\n",
       "<table border=\"1\" class=\"dataframe\">\n",
       "  <thead>\n",
       "    <tr style=\"text-align: right;\">\n",
       "      <th></th>\n",
       "      <th>High School</th>\n",
       "      <th>Budget/Student</th>\n",
       "      <th>Math Average</th>\n",
       "      <th>Reading Average</th>\n",
       "      <th>Math Pass Rate</th>\n",
       "      <th>Reading Passing Rate</th>\n",
       "      <th>Overall Passing Rate</th>\n",
       "    </tr>\n",
       "  </thead>\n",
       "  <tbody>\n",
       "    <tr>\n",
       "      <th>3</th>\n",
       "      <td>Rodriguez</td>\n",
       "      <td>2547363.0</td>\n",
       "      <td>76.842711</td>\n",
       "      <td>80.744686</td>\n",
       "      <td>66.366592</td>\n",
       "      <td>80.220055</td>\n",
       "      <td>73.293323</td>\n",
       "    </tr>\n",
       "    <tr>\n",
       "      <th>4</th>\n",
       "      <td>Figueroa</td>\n",
       "      <td>1884411.0</td>\n",
       "      <td>76.711767</td>\n",
       "      <td>81.158020</td>\n",
       "      <td>65.988471</td>\n",
       "      <td>80.739234</td>\n",
       "      <td>73.363852</td>\n",
       "    </tr>\n",
       "    <tr>\n",
       "      <th>5</th>\n",
       "      <td>Huang</td>\n",
       "      <td>1910635.0</td>\n",
       "      <td>76.629414</td>\n",
       "      <td>81.182722</td>\n",
       "      <td>65.683922</td>\n",
       "      <td>81.316421</td>\n",
       "      <td>73.500171</td>\n",
       "    </tr>\n",
       "    <tr>\n",
       "      <th>1</th>\n",
       "      <td>Johnson</td>\n",
       "      <td>3094650.0</td>\n",
       "      <td>77.072464</td>\n",
       "      <td>80.966394</td>\n",
       "      <td>66.057551</td>\n",
       "      <td>81.222432</td>\n",
       "      <td>73.639992</td>\n",
       "    </tr>\n",
       "    <tr>\n",
       "      <th>6</th>\n",
       "      <td>Ford</td>\n",
       "      <td>1763916.0</td>\n",
       "      <td>77.102592</td>\n",
       "      <td>80.746258</td>\n",
       "      <td>68.309602</td>\n",
       "      <td>79.299014</td>\n",
       "      <td>73.804308</td>\n",
       "    </tr>\n",
       "  </tbody>\n",
       "</table>\n",
       "</div>"
      ],
      "text/plain": [
       "  High School  Budget/Student  Math Average  Reading Average  Math Pass Rate  \\\n",
       "3   Rodriguez       2547363.0     76.842711        80.744686       66.366592   \n",
       "4    Figueroa       1884411.0     76.711767        81.158020       65.988471   \n",
       "5       Huang       1910635.0     76.629414        81.182722       65.683922   \n",
       "1     Johnson       3094650.0     77.072464        80.966394       66.057551   \n",
       "6        Ford       1763916.0     77.102592        80.746258       68.309602   \n",
       "\n",
       "   Reading Passing Rate  Overall Passing Rate  \n",
       "3             80.220055             73.293323  \n",
       "4             80.739234             73.363852  \n",
       "5             81.316421             73.500171  \n",
       "1             81.222432             73.639992  \n",
       "6             79.299014             73.804308  "
      ]
     },
     "execution_count": 29,
     "metadata": {},
     "output_type": "execute_result"
    }
   ],
   "source": [
    "#  Sort and display the worst five schools in overall passing rate\n",
    "\n",
    "school_performance.sort_values(by = \"Overall Passing Rate\").head()"
   ]
  },
  {
   "cell_type": "markdown",
   "metadata": {
    "collapsed": true
   },
   "source": [
    "## Math Scores by Grade"
   ]
  },
  {
   "cell_type": "markdown",
   "metadata": {},
   "source": [
    "* Create a table that lists the average Reading Score for students of each grade level (9th, 10th, 11th, 12th) at each school.\n",
    "\n",
    "  * Create a pandas series for each grade. Hint: use a conditional statement.\n",
    "  \n",
    "  * Group each series by school\n",
    "  \n",
    "  * Combine the series into a dataframe\n",
    "  \n",
    "  * Optional: give the displayed data cleaner formatting"
   ]
  },
  {
   "cell_type": "code",
   "execution_count": 40,
   "metadata": {},
   "outputs": [],
   "source": [
    "# Create table that lists the average math score for each school of each grade level.\n",
    "\n",
    "school_grade = pd.DataFrame()\n",
    "school_grade['High School Grade'] = ['Bailey 9th', 'Bailey 10th', 'Bailey 11th', 'Bailey 12th',\n",
    "                               'Johnson 9th', 'Johnson 10th', 'Johnson 11th', 'Johnson 12th',\n",
    "                               'Hernandez 9th', 'Hernandez 10th', 'Hernandez 11th', 'Hernandez 12th',\n",
    "                               'Rodriguez 9th', 'Rodriguez 10th', 'Rodriguez 11th', 'Rodriguez 12th',\n",
    "                               'Figueroa 9th', 'Figueroa 10th', 'Figueroa 11th', 'Figueroa 12th',\n",
    "                               'Huang 9th', 'Huang 10th', 'Huang 11th', 'Huang 12th',\n",
    "                               'Ford 9th', 'Ford 10th', 'Ford 11th', 'Ford 12th',\n",
    "                               'Wilson 9th', 'Wilson 10th', 'Wilson 11th', 'Wilson 12th',\n",
    "                               'Cabrera 9th', 'Cabrera 10th', 'Cabrera 11th', 'Cabrera 12th',\n",
    "                               'Wright 9th', 'Wright 10th', 'Wright 11th', 'Wright 12th',\n",
    "                               'Shelton 9th', 'Shelton 10th', 'Shelton 11th', 'Shelton 12th',\n",
    "                               'Thomas 9th', 'Thomas 10th', 'Thomas 11th', 'Thomas 12th', \n",
    "                               'Griffin 9th', 'Griffin 10th', 'Griffin 11th', 'Griffin 12th',\n",
    "                               'Pena 9th', 'Pena 10th', 'Pena 11th', 'Pena 12th', \n",
    "                               'Holden 9th', 'Holden 10th', 'Holden 11th', 'Holden 12th']\n",
    "# Bailey\n",
    "bail9 = bail[(bail['grade'] == \"9th\")]\n",
    "bail10 = bail[(bail['grade'] == \"10th\")]\n",
    "bail11 = bail[(bail['grade'] == \"11th\")]\n",
    "bail12 = bail[(bail['grade'] == \"12th\")]\n",
    "# Johnson\n",
    "john9 = john[(john['grade'] == \"9th\")]\n",
    "john10 = john[(john['grade'] == \"10th\")]\n",
    "john11 = john[(john['grade'] == \"11th\")]\n",
    "john12 = john[(john['grade'] == \"12th\")]\n",
    "# Hernandez\n",
    "hern9 = hern[(hern['grade'] == \"9th\")]\n",
    "hern10 = hern[(hern['grade'] == \"10th\")]\n",
    "hern11 = hern[(hern['grade'] == \"11th\")]\n",
    "hern12 = hern[(hern['grade'] == \"12th\")]\n",
    "# Rodriguez\n",
    "rod9 = rod[(rod['grade'] == \"9th\")]\n",
    "rod10 = rod[(rod['grade'] == \"10th\")]\n",
    "rod11 = rod[(rod['grade'] == \"11th\")]\n",
    "rod12 = rod[(rod['grade'] == \"12th\")]\n",
    "# Figueroa\n",
    "fig9 = fig[(fig['grade'] == \"9th\")]\n",
    "fig10 = fig[(fig['grade'] == \"10th\")]\n",
    "fig11 = fig[(fig['grade'] == \"11th\")]\n",
    "fig12 = fig[(fig['grade'] == \"12th\")]\n",
    "# Huang\n",
    "hua9 = hua[(hua['grade'] == \"9th\")]\n",
    "hua10 = hua[(hua['grade'] == \"10th\")]\n",
    "hua11 = hua[(hua['grade'] == \"11th\")]\n",
    "hua12 = hua[(hua['grade'] == \"12th\")]\n",
    "# Ford\n",
    "ford9 = ford[(ford['grade'] == \"9th\")]\n",
    "ford10 = ford[(ford['grade'] == \"10th\")]\n",
    "ford11 = ford[(ford['grade'] == \"11th\")]\n",
    "ford12 = ford[(ford['grade'] == \"12th\")]\n",
    "# Wilson\n",
    "wil9 = wil[(wil['grade'] == \"9th\")]\n",
    "wil10 = wil[(wil['grade'] == \"10th\")]\n",
    "wil11 = wil[(wil['grade'] == \"11th\")]\n",
    "wil12 = wil[(wil['grade'] == \"12th\")]\n",
    "# Cabrera\n",
    "cab9 = cab[(cab['grade'] == \"9th\")]\n",
    "cab10 = cab[(cab['grade'] == \"10th\")]\n",
    "cab11 = cab[(cab['grade'] == \"11th\")]\n",
    "cab12 = cab[(cab['grade'] == \"12th\")]\n",
    "# Wright\n",
    "wri9 = wri[(wri['grade'] == \"9th\")]\n",
    "wri10 = wri[(wri['grade'] == \"10th\")]\n",
    "wri11 = wri[(wri['grade'] == \"11th\")]\n",
    "wri12 = wri[(wri['grade'] == \"12th\")]\n",
    "# Shelton\n",
    "she9 = she[(she['grade'] == \"9th\")]\n",
    "she10 = she[(she['grade'] == \"10th\")]\n",
    "she11 = she[(she['grade'] == \"11th\")]\n",
    "she12 = she[(she['grade'] == \"12th\")]\n",
    "# Thomas\n",
    "tho9 = tho[(tho['grade'] == \"9th\")]\n",
    "tho10 = tho[(tho['grade'] == \"10th\")]\n",
    "tho11 = tho[(tho['grade'] == \"11th\")]\n",
    "tho12 = tho[(tho['grade'] == \"12th\")]\n",
    "# Griffin\n",
    "grif9 = grif[(grif['grade'] == \"9th\")]\n",
    "grif10 = grif[(grif['grade'] == \"10th\")]\n",
    "grif11 = grif[(grif['grade'] == \"11th\")]\n",
    "john12 = grif[(grif['grade'] == \"12th\")]\n",
    "# Pena\n",
    "pen9 = pen[(pen['grade'] == \"9th\")]\n",
    "pen10 = pen[(pen['grade'] == \"10th\")]\n",
    "pen11 = pen[(pen['grade'] == \"11th\")]\n",
    "pen12 = pen[(pen['grade'] == \"12th\")]\n",
    "# Holden\n",
    "hold9 = hold[(hold['grade'] == \"9th\")]\n",
    "hold10 = hold[(hold['grade'] == \"10th\")]\n",
    "hold11 = hold[(hold['grade'] == \"11th\")]\n",
    "hold12 = hold[(hold['grade'] == \"12th\")]"
   ]
  },
  {
   "cell_type": "code",
   "execution_count": null,
   "metadata": {},
   "outputs": [],
   "source": [
    "# Calculate the average math score for 9th grade in each school\n",
    "\n",
    "# Bailey\n",
    "bail9_msum = bail9['math_score'].sum() \n",
    "bail9_tot = len(bail9)\n",
    "bail9_mavg = bail9_msum/bail9_tot\n",
    "# Johnson\n",
    "john9_msum = john9['math_score'].sum()\n",
    "john9_tot = len(john9)\n",
    "john9_mavg = john9_msum/john9_tot\n",
    "# Hernandez\n",
    "hern9_msum = hern9['math_score'].sum()\n",
    "hern9_tot = len(hern9)\n",
    "hern9_mavg = hern9_msum/hern9_tot\n",
    "# Rodriguez\n",
    "rod9_msum = rod9['math_score'].sum()\n",
    "rod9_tot = len(rod9)\n",
    "rod9_mavg = rod9_msum/rod9_tot\n",
    "# Figueroa\n",
    "fig9_mavg = fig9_msum/fig9_tot\n",
    "# Huang\n",
    "hua9_mavg = hua9_msum/hua9_tot\n",
    "# Ford\n",
    "ford9_mavg = ford9_msum/ford9_tot\n",
    "# Wilson\n",
    "wil9_mavg = wil9_msum/wil9_tot\n",
    "# Cabrera\n",
    "cab9_mavg = cab9_msum/cab9_tot\n",
    "# Wright\n",
    "wri9_mavg = wri9_msum/wri9_tot\n",
    "# Shelton\n",
    "she9_mavg = she9_msum/she9_tot\n",
    "# Thomas\n",
    "tho9_mavg = tho9_msum/tho9_tot\n",
    "# Griffin\n",
    "grif9_mavg = grif9_msum/grif9_tot\n",
    "# Pena\n",
    "pen9_mavg = pen9_msum/pen9_tot\n",
    "# Holden\n",
    "hold9_mavg = hold9_msum/hold9_tot\n",
    "\n",
    "# Column Add\n",
    "school_grade['9th Grade Math Avg'] = []"
   ]
  },
  {
   "cell_type": "code",
   "execution_count": null,
   "metadata": {},
   "outputs": [],
   "source": [
    "# Calculate the average math score for 10th grade in each school\n",
    "\n",
    "# Bailey\n",
    "# Johnson\n",
    "# Hernandez\n",
    "# Rodriguez\n",
    "# Figueroa\n",
    "# Huang\n",
    "# Ford\n",
    "# Wilson\n",
    "# Cabrera\n",
    "# Wright\n",
    "# Shelton\n",
    "# Thomas\n",
    "# Griffin\n",
    "# Pena\n",
    "# Holden\n"
   ]
  },
  {
   "cell_type": "code",
   "execution_count": null,
   "metadata": {},
   "outputs": [],
   "source": [
    "# Calculate the average math score for 11th grade in each school\n",
    "\n",
    "# Bailey\n",
    "# Johnson\n",
    "# Hernandez\n",
    "# Rodriguez\n",
    "# Figueroa\n",
    "# Huang\n",
    "# Ford\n",
    "# Wilson\n",
    "# Cabrera\n",
    "# Wright\n",
    "# Shelton\n",
    "# Thomas\n",
    "# Griffin\n",
    "# Pena\n",
    "# Holden\n"
   ]
  },
  {
   "cell_type": "code",
   "execution_count": null,
   "metadata": {},
   "outputs": [],
   "source": [
    "# Calculate the average math score for 12th grade in each school\n",
    "\n",
    "# Bailey\n",
    "# Johnson\n",
    "# Hernandez\n",
    "# Rodriguez\n",
    "# Figueroa\n",
    "# Huang\n",
    "# Ford\n",
    "# Wilson\n",
    "# Cabrera\n",
    "# Wright\n",
    "# Shelton\n",
    "# Thomas\n",
    "# Griffin\n",
    "# Pena\n",
    "# Holden\n"
   ]
  },
  {
   "cell_type": "markdown",
   "metadata": {},
   "source": [
    "### Reading Score by Grade "
   ]
  },
  {
   "cell_type": "markdown",
   "metadata": {},
   "source": [
    "* Perform the same operations as above for reading scores"
   ]
  },
  {
   "cell_type": "code",
   "execution_count": null,
   "metadata": {},
   "outputs": [],
   "source": [
    "# Create table that lists the average reading score for each school of each grade level.\n",
    "\n"
   ]
  },
  {
   "cell_type": "code",
   "execution_count": null,
   "metadata": {},
   "outputs": [],
   "source": [
    "# Calculate the average reading score for 9th grade in each school\n",
    "\n",
    "\n"
   ]
  },
  {
   "cell_type": "code",
   "execution_count": null,
   "metadata": {},
   "outputs": [],
   "source": [
    "# Calculate the average reading score for 10th grade in each school\n",
    "\n",
    "\n"
   ]
  },
  {
   "cell_type": "code",
   "execution_count": null,
   "metadata": {},
   "outputs": [],
   "source": [
    "# Calculate the average reading score for 11th grade in each school\n",
    "\n",
    "\n"
   ]
  },
  {
   "cell_type": "code",
   "execution_count": null,
   "metadata": {},
   "outputs": [],
   "source": [
    "# Calculate the average reading score for 12th grade in each school\n",
    "\n",
    "\n"
   ]
  },
  {
   "cell_type": "markdown",
   "metadata": {},
   "source": [
    "## Scores by School Spending"
   ]
  },
  {
   "cell_type": "markdown",
   "metadata": {},
   "source": [
    "* Create a table that breaks down school performances based on average Spending Ranges (Per Student). Use 4 reasonable bins to group school spending. Include in the table each of the following:\n",
    "  * Average Math Score\n",
    "  * Average Reading Score\n",
    "  * % Passing Math\n",
    "  * % Passing Reading\n",
    "  * Overall Passing Rate (Average of the above two)"
   ]
  },
  {
   "cell_type": "code",
   "execution_count": null,
   "metadata": {},
   "outputs": [],
   "source": [
    "# Sample bins. Feel free to create your own bins.\n",
    "spending_bins = [0, 585, 615, 645, 675]\n",
    "group_names = [\"<$585\", \"$585-615\", \"$615-645\", \"$645-675\"]"
   ]
  },
  {
   "cell_type": "code",
   "execution_count": null,
   "metadata": {},
   "outputs": [],
   "source": [
    "# Create a new column to show budget per student in each row\n",
    "\n"
   ]
  },
  {
   "cell_type": "code",
   "execution_count": null,
   "metadata": {},
   "outputs": [],
   "source": [
    "# Create a new column to define the spending ranges per student\n",
    "\n",
    "\n"
   ]
  },
  {
   "cell_type": "code",
   "execution_count": null,
   "metadata": {},
   "outputs": [],
   "source": [
    "# Calculate the average math score within each spending range\n",
    "\n",
    "\n",
    "\n"
   ]
  },
  {
   "cell_type": "code",
   "execution_count": null,
   "metadata": {},
   "outputs": [],
   "source": [
    "# Calculate the percentage passing rate for math in each spending range\n",
    "\n",
    "\n",
    "\n"
   ]
  },
  {
   "cell_type": "code",
   "execution_count": null,
   "metadata": {},
   "outputs": [],
   "source": [
    "# Calculate the percentage passing rate for reading in each spending range\n",
    "\n",
    "\n"
   ]
  },
  {
   "cell_type": "code",
   "execution_count": null,
   "metadata": {},
   "outputs": [],
   "source": [
    "# Calculate the percentage overall passing rate in each spending range\n",
    "\n",
    "\n"
   ]
  },
  {
   "cell_type": "markdown",
   "metadata": {},
   "source": [
    "### Scores by School Size"
   ]
  },
  {
   "cell_type": "markdown",
   "metadata": {},
   "source": [
    "* Perform the same operations as above, based on school size."
   ]
  },
  {
   "cell_type": "code",
   "execution_count": null,
   "metadata": {},
   "outputs": [],
   "source": [
    "# Sample bins. Feel free to create your own bins.\n",
    "size_bins = [0, 1000, 2000, 5000]\n",
    "group_names = [\"Small (<1000)\", \"Medium (1000-2000)\", \"Large (2000-5000)\"]"
   ]
  },
  {
   "cell_type": "code",
   "execution_count": null,
   "metadata": {
    "scrolled": true
   },
   "outputs": [],
   "source": [
    "# Create a new column for the bin groups\n"
   ]
  },
  {
   "cell_type": "markdown",
   "metadata": {},
   "source": [
    "Look for the total count of test scores that pass 70% or higher\n",
    "\n",
    "\n"
   ]
  },
  {
   "cell_type": "code",
   "execution_count": null,
   "metadata": {},
   "outputs": [],
   "source": [
    "# math_pass_size\n",
    "\n",
    "\n"
   ]
  },
  {
   "cell_type": "code",
   "execution_count": null,
   "metadata": {},
   "outputs": [],
   "source": [
    "# read_pass_size\n",
    "\n",
    "\n"
   ]
  },
  {
   "cell_type": "code",
   "execution_count": null,
   "metadata": {},
   "outputs": [],
   "source": [
    "# Calculate the overall passing rate for different school size\n",
    "\n",
    "\n"
   ]
  },
  {
   "cell_type": "markdown",
   "metadata": {},
   "source": [
    "### Scores by School Type"
   ]
  },
  {
   "cell_type": "markdown",
   "metadata": {},
   "source": [
    "* Perform the same operations as above, based on school type."
   ]
  },
  {
   "cell_type": "code",
   "execution_count": null,
   "metadata": {},
   "outputs": [],
   "source": [
    "# Create bins and groups, school type {'Charter', 'District'}\n",
    "\n",
    "\n"
   ]
  },
  {
   "cell_type": "markdown",
   "metadata": {},
   "source": [
    "Find counts of the passing 70 or higher score for the both test\n"
   ]
  },
  {
   "cell_type": "code",
   "execution_count": null,
   "metadata": {},
   "outputs": [],
   "source": [
    "# math pass size\n",
    "\n",
    "\n"
   ]
  },
  {
   "cell_type": "code",
   "execution_count": null,
   "metadata": {},
   "outputs": [],
   "source": [
    "# reading pass size\n",
    "\n"
   ]
  },
  {
   "cell_type": "code",
   "execution_count": null,
   "metadata": {},
   "outputs": [],
   "source": [
    "# Calculate the overall passing rate\n",
    "\n"
   ]
  }
 ],
 "metadata": {
  "anaconda-cloud": {},
  "kernel_info": {
   "name": "python3"
  },
  "kernelspec": {
   "display_name": "Python 3 (ipykernel)",
   "language": "python",
   "name": "python3"
  },
  "language_info": {
   "codemirror_mode": {
    "name": "ipython",
    "version": 3
   },
   "file_extension": ".py",
   "mimetype": "text/x-python",
   "name": "python",
   "nbconvert_exporter": "python",
   "pygments_lexer": "ipython3",
   "version": "3.9.13"
  },
  "latex_envs": {
   "LaTeX_envs_menu_present": true,
   "autoclose": false,
   "autocomplete": true,
   "bibliofile": "biblio.bib",
   "cite_by": "apalike",
   "current_citInitial": 1,
   "eqLabelWithNumbers": true,
   "eqNumInitial": 1,
   "hotkeys": {
    "equation": "Ctrl-E",
    "itemize": "Ctrl-I"
   },
   "labels_anchors": false,
   "latex_user_defs": false,
   "report_style_numbering": false,
   "user_envs_cfg": false
  },
  "nteract": {
   "version": "0.8.4"
  },
  "toc": {
   "base_numbering": 1,
   "nav_menu": {},
   "number_sections": true,
   "sideBar": true,
   "skip_h1_title": false,
   "title_cell": "Table of Contents",
   "title_sidebar": "Contents",
   "toc_cell": false,
   "toc_position": {},
   "toc_section_display": true,
   "toc_window_display": false
  }
 },
 "nbformat": 4,
 "nbformat_minor": 1
}
